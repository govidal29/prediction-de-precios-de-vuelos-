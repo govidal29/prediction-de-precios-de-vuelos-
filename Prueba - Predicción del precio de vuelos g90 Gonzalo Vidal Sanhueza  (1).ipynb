{
 "cells": [
  {
   "cell_type": "code",
   "execution_count": 1,
   "id": "cd3461de-5af8-45a0-87d3-f3b2e5eff3a5",
   "metadata": {},
   "outputs": [],
   "source": [
    "#El problema de negocio que se busca resolver es la predicción del precio de los boletos de avión en función de diversas características de los vuelos.\n",
    "#En la industria de la aviación, los precios de los boletos varían significativamente según múltiples factores, como la aerolínea, la clase de servicio (business o economy), el destino, la temporada del año, la anticipación de la compra y otros factores adicionales.\n",
    "#El objetivo es desarrollar un modelo de Machine Learning que pueda estimar de manera precisa el precio de un boleto de avión a partir de estos factores. Esto permitirá a una agencia de viajes en línea ofrecer a sus clientes una herramienta de predicción que les ayude a planificar mejor sus viajes y obtener tarifas competitivas.\n",
    "\n"
   ]
  },
  {
   "cell_type": "code",
   "execution_count": 3,
   "id": "74a5c655-0d92-4cf4-b2ff-f53b9b96afb9",
   "metadata": {},
   "outputs": [],
   "source": [
    "#1. Metodología a utilizar.\n",
    "#El desarrollo de este proyecto seguirá un proceso estructurado basado en el ciclo de vida de un proyecto de Machine Learning, que incluye:\n",
    "#Comprensión del problema y de los datos: Identificación de la variable objetivo y de las variables explicativas.\n",
    "#Análisis exploratorio de los datos (EDA): Detección de patrones, tendencias y anomalías en los datos.\n",
    "#Preprocesamiento de los datos: Limpieza de datos, manejo de valores nulos, transformación de variables categóricas y escalado de variables numéricas.\n",
    "#Selección y entrenamiento de modelos: Prueba de diferentes algoritmos de aprendizaje automático.\n",
    "#Optimización de hiperparámetros: Búsqueda de la mejor configuración para cada modelo.\n",
    "#Evaluación de los modelos: Comparación del desempeño de los modelos mediante métricas de regresión.\n",
    "#Conclusiones y próximos pasos: Análisis de los resultados obtenidos y recomendaciones para mejorar el modelo."
   ]
  },
  {
   "cell_type": "code",
   "execution_count": 5,
   "id": "afa00913-c0c4-45d0-8d33-f244c59a8cae",
   "metadata": {},
   "outputs": [],
   "source": [
    "#cargar las librerias necesarias \n",
    "import pandas as pd\n",
    "import numpy as np\n",
    "import matplotlib.pyplot as plt\n",
    "import seaborn as sns\n",
    "from sklearn.preprocessing import LabelEncoder\n",
    "from sklearn.model_selection import train_test_split\n",
    "from sklearn.ensemble import RandomForestRegressor\n",
    "from sklearn.linear_model import LinearRegression\n",
    "from sklearn.tree import DecisionTreeRegressor\n",
    "from sklearn.model_selection import GridSearchCV\n",
    "from sklearn.metrics import mean_absolute_error, mean_squared_error, r2_score\n"
   ]
  },
  {
   "cell_type": "code",
   "execution_count": 7,
   "id": "232d201b-6ec8-42cb-a18e-1e7c1f21746c",
   "metadata": {},
   "outputs": [],
   "source": [
    "# Cargar los datasets\n",
    "business_df = pd.read_excel(\"C:/Users/gonza/OneDrive/Desktop/prueba machine learning/business.xlsx\")\n",
    "economy_df = pd.read_excel(\"C:/Users/gonza/OneDrive/Desktop/prueba machine learning/economy.xlsx\")\n"
   ]
  },
  {
   "cell_type": "code",
   "execution_count": 9,
   "id": "582b36ac-b6ea-4893-a356-59441c6323bd",
   "metadata": {},
   "outputs": [
    {
     "name": "stdout",
     "output_type": "stream",
     "text": [
      "Business Class Dataset:\n"
     ]
    },
    {
     "data": {
      "text/html": [
       "<div>\n",
       "<style scoped>\n",
       "    .dataframe tbody tr th:only-of-type {\n",
       "        vertical-align: middle;\n",
       "    }\n",
       "\n",
       "    .dataframe tbody tr th {\n",
       "        vertical-align: top;\n",
       "    }\n",
       "\n",
       "    .dataframe thead th {\n",
       "        text-align: right;\n",
       "    }\n",
       "</style>\n",
       "<table border=\"1\" class=\"dataframe\">\n",
       "  <thead>\n",
       "    <tr style=\"text-align: right;\">\n",
       "      <th></th>\n",
       "      <th>date</th>\n",
       "      <th>airline</th>\n",
       "      <th>ch_code</th>\n",
       "      <th>num_code</th>\n",
       "      <th>dep_time</th>\n",
       "      <th>from</th>\n",
       "      <th>time_taken</th>\n",
       "      <th>stop</th>\n",
       "      <th>arr_time</th>\n",
       "      <th>to</th>\n",
       "      <th>price</th>\n",
       "    </tr>\n",
       "  </thead>\n",
       "  <tbody>\n",
       "    <tr>\n",
       "      <th>0</th>\n",
       "      <td>2022-02-11</td>\n",
       "      <td>Air India</td>\n",
       "      <td>AI</td>\n",
       "      <td>868</td>\n",
       "      <td>18:00:00</td>\n",
       "      <td>Delhi</td>\n",
       "      <td>02h 00m</td>\n",
       "      <td>non-stop</td>\n",
       "      <td>20:00:00</td>\n",
       "      <td>Mumbai</td>\n",
       "      <td>25612</td>\n",
       "    </tr>\n",
       "    <tr>\n",
       "      <th>1</th>\n",
       "      <td>2022-02-11</td>\n",
       "      <td>Air India</td>\n",
       "      <td>AI</td>\n",
       "      <td>624</td>\n",
       "      <td>19:00:00</td>\n",
       "      <td>Delhi</td>\n",
       "      <td>02h 15m</td>\n",
       "      <td>non-stop</td>\n",
       "      <td>21:15:00</td>\n",
       "      <td>Mumbai</td>\n",
       "      <td>25612</td>\n",
       "    </tr>\n",
       "    <tr>\n",
       "      <th>2</th>\n",
       "      <td>2022-02-11</td>\n",
       "      <td>Air India</td>\n",
       "      <td>AI</td>\n",
       "      <td>531</td>\n",
       "      <td>20:00:00</td>\n",
       "      <td>Delhi</td>\n",
       "      <td>24h 45m</td>\n",
       "      <td>1-stop\\n\\t\\t\\t\\t\\t\\t\\t\\t\\t\\t\\t\\t\\n\\t\\t\\t\\t\\t\\t...</td>\n",
       "      <td>20:45:00</td>\n",
       "      <td>Mumbai</td>\n",
       "      <td>42220</td>\n",
       "    </tr>\n",
       "    <tr>\n",
       "      <th>3</th>\n",
       "      <td>2022-02-11</td>\n",
       "      <td>Air India</td>\n",
       "      <td>AI</td>\n",
       "      <td>839</td>\n",
       "      <td>21:25:00</td>\n",
       "      <td>Delhi</td>\n",
       "      <td>26h 30m</td>\n",
       "      <td>1-stop\\n\\t\\t\\t\\t\\t\\t\\t\\t\\t\\t\\t\\t\\n\\t\\t\\t\\t\\t\\t...</td>\n",
       "      <td>23:55:00</td>\n",
       "      <td>Mumbai</td>\n",
       "      <td>44450</td>\n",
       "    </tr>\n",
       "    <tr>\n",
       "      <th>4</th>\n",
       "      <td>2022-02-11</td>\n",
       "      <td>Air India</td>\n",
       "      <td>AI</td>\n",
       "      <td>544</td>\n",
       "      <td>17:15:00</td>\n",
       "      <td>Delhi</td>\n",
       "      <td>06h 40m</td>\n",
       "      <td>1-stop\\n\\t\\t\\t\\t\\t\\t\\t\\t\\t\\t\\t\\t\\n\\t\\t\\t\\t\\t\\t...</td>\n",
       "      <td>23:55:00</td>\n",
       "      <td>Mumbai</td>\n",
       "      <td>46690</td>\n",
       "    </tr>\n",
       "  </tbody>\n",
       "</table>\n",
       "</div>"
      ],
      "text/plain": [
       "        date    airline ch_code  num_code  dep_time   from time_taken  \\\n",
       "0 2022-02-11  Air India      AI       868  18:00:00  Delhi    02h 00m   \n",
       "1 2022-02-11  Air India      AI       624  19:00:00  Delhi    02h 15m   \n",
       "2 2022-02-11  Air India      AI       531  20:00:00  Delhi    24h 45m   \n",
       "3 2022-02-11  Air India      AI       839  21:25:00  Delhi    26h 30m   \n",
       "4 2022-02-11  Air India      AI       544  17:15:00  Delhi    06h 40m   \n",
       "\n",
       "                                                stop  arr_time      to  price  \n",
       "0                                           non-stop  20:00:00  Mumbai  25612  \n",
       "1                                           non-stop  21:15:00  Mumbai  25612  \n",
       "2  1-stop\\n\\t\\t\\t\\t\\t\\t\\t\\t\\t\\t\\t\\t\\n\\t\\t\\t\\t\\t\\t...  20:45:00  Mumbai  42220  \n",
       "3  1-stop\\n\\t\\t\\t\\t\\t\\t\\t\\t\\t\\t\\t\\t\\n\\t\\t\\t\\t\\t\\t...  23:55:00  Mumbai  44450  \n",
       "4  1-stop\\n\\t\\t\\t\\t\\t\\t\\t\\t\\t\\t\\t\\t\\n\\t\\t\\t\\t\\t\\t...  23:55:00  Mumbai  46690  "
      ]
     },
     "metadata": {},
     "output_type": "display_data"
    },
    {
     "name": "stdout",
     "output_type": "stream",
     "text": [
      "Economy Class Dataset:\n"
     ]
    },
    {
     "data": {
      "text/html": [
       "<div>\n",
       "<style scoped>\n",
       "    .dataframe tbody tr th:only-of-type {\n",
       "        vertical-align: middle;\n",
       "    }\n",
       "\n",
       "    .dataframe tbody tr th {\n",
       "        vertical-align: top;\n",
       "    }\n",
       "\n",
       "    .dataframe thead th {\n",
       "        text-align: right;\n",
       "    }\n",
       "</style>\n",
       "<table border=\"1\" class=\"dataframe\">\n",
       "  <thead>\n",
       "    <tr style=\"text-align: right;\">\n",
       "      <th></th>\n",
       "      <th>date</th>\n",
       "      <th>airline</th>\n",
       "      <th>ch_code</th>\n",
       "      <th>num_code</th>\n",
       "      <th>dep_time</th>\n",
       "      <th>from</th>\n",
       "      <th>time_taken</th>\n",
       "      <th>stop</th>\n",
       "      <th>arr_time</th>\n",
       "      <th>to</th>\n",
       "      <th>price</th>\n",
       "    </tr>\n",
       "  </thead>\n",
       "  <tbody>\n",
       "    <tr>\n",
       "      <th>0</th>\n",
       "      <td>2022-02-11</td>\n",
       "      <td>SpiceJet</td>\n",
       "      <td>SG</td>\n",
       "      <td>8709</td>\n",
       "      <td>18:55:00</td>\n",
       "      <td>Delhi</td>\n",
       "      <td>02h 10m</td>\n",
       "      <td>non-stop</td>\n",
       "      <td>21:05:00</td>\n",
       "      <td>Mumbai</td>\n",
       "      <td>5953</td>\n",
       "    </tr>\n",
       "    <tr>\n",
       "      <th>1</th>\n",
       "      <td>2022-02-11</td>\n",
       "      <td>SpiceJet</td>\n",
       "      <td>SG</td>\n",
       "      <td>8157</td>\n",
       "      <td>06:20:00</td>\n",
       "      <td>Delhi</td>\n",
       "      <td>02h 20m</td>\n",
       "      <td>non-stop</td>\n",
       "      <td>08:40:00</td>\n",
       "      <td>Mumbai</td>\n",
       "      <td>5953</td>\n",
       "    </tr>\n",
       "    <tr>\n",
       "      <th>2</th>\n",
       "      <td>2022-02-11</td>\n",
       "      <td>AirAsia</td>\n",
       "      <td>I5</td>\n",
       "      <td>764</td>\n",
       "      <td>04:25:00</td>\n",
       "      <td>Delhi</td>\n",
       "      <td>02h 10m</td>\n",
       "      <td>non-stop</td>\n",
       "      <td>06:35:00</td>\n",
       "      <td>Mumbai</td>\n",
       "      <td>5956</td>\n",
       "    </tr>\n",
       "    <tr>\n",
       "      <th>3</th>\n",
       "      <td>2022-02-11</td>\n",
       "      <td>Vistara</td>\n",
       "      <td>UK</td>\n",
       "      <td>995</td>\n",
       "      <td>10:20:00</td>\n",
       "      <td>Delhi</td>\n",
       "      <td>02h 15m</td>\n",
       "      <td>non-stop</td>\n",
       "      <td>12:35:00</td>\n",
       "      <td>Mumbai</td>\n",
       "      <td>5955</td>\n",
       "    </tr>\n",
       "    <tr>\n",
       "      <th>4</th>\n",
       "      <td>2022-02-11</td>\n",
       "      <td>Vistara</td>\n",
       "      <td>UK</td>\n",
       "      <td>963</td>\n",
       "      <td>08:50:00</td>\n",
       "      <td>Delhi</td>\n",
       "      <td>02h 20m</td>\n",
       "      <td>non-stop</td>\n",
       "      <td>11:10:00</td>\n",
       "      <td>Mumbai</td>\n",
       "      <td>5955</td>\n",
       "    </tr>\n",
       "  </tbody>\n",
       "</table>\n",
       "</div>"
      ],
      "text/plain": [
       "        date   airline ch_code  num_code  dep_time   from time_taken  \\\n",
       "0 2022-02-11  SpiceJet      SG      8709  18:55:00  Delhi    02h 10m   \n",
       "1 2022-02-11  SpiceJet      SG      8157  06:20:00  Delhi    02h 20m   \n",
       "2 2022-02-11   AirAsia      I5       764  04:25:00  Delhi    02h 10m   \n",
       "3 2022-02-11   Vistara      UK       995  10:20:00  Delhi    02h 15m   \n",
       "4 2022-02-11   Vistara      UK       963  08:50:00  Delhi    02h 20m   \n",
       "\n",
       "       stop  arr_time      to  price  \n",
       "0  non-stop  21:05:00  Mumbai   5953  \n",
       "1  non-stop  08:40:00  Mumbai   5953  \n",
       "2  non-stop  06:35:00  Mumbai   5956  \n",
       "3  non-stop  12:35:00  Mumbai   5955  \n",
       "4  non-stop  11:10:00  Mumbai   5955  "
      ]
     },
     "metadata": {},
     "output_type": "display_data"
    },
    {
     "name": "stdout",
     "output_type": "stream",
     "text": [
      "\n",
      "Información del dataset Business:\n",
      "<class 'pandas.core.frame.DataFrame'>\n",
      "RangeIndex: 93487 entries, 0 to 93486\n",
      "Data columns (total 11 columns):\n",
      " #   Column      Non-Null Count  Dtype         \n",
      "---  ------      --------------  -----         \n",
      " 0   date        93487 non-null  datetime64[ns]\n",
      " 1   airline     93487 non-null  object        \n",
      " 2   ch_code     93487 non-null  object        \n",
      " 3   num_code    93487 non-null  int64         \n",
      " 4   dep_time    93487 non-null  object        \n",
      " 5   from        93487 non-null  object        \n",
      " 6   time_taken  93487 non-null  object        \n",
      " 7   stop        93487 non-null  object        \n",
      " 8   arr_time    93487 non-null  object        \n",
      " 9   to          93487 non-null  object        \n",
      " 10  price       93487 non-null  object        \n",
      "dtypes: datetime64[ns](1), int64(1), object(9)\n",
      "memory usage: 7.8+ MB\n",
      "\n",
      "Información del dataset Economy:\n",
      "<class 'pandas.core.frame.DataFrame'>\n",
      "RangeIndex: 206774 entries, 0 to 206773\n",
      "Data columns (total 11 columns):\n",
      " #   Column      Non-Null Count   Dtype         \n",
      "---  ------      --------------   -----         \n",
      " 0   date        206774 non-null  datetime64[ns]\n",
      " 1   airline     206774 non-null  object        \n",
      " 2   ch_code     206774 non-null  object        \n",
      " 3   num_code    206774 non-null  int64         \n",
      " 4   dep_time    206774 non-null  object        \n",
      " 5   from        206774 non-null  object        \n",
      " 6   time_taken  206774 non-null  object        \n",
      " 7   stop        206774 non-null  object        \n",
      " 8   arr_time    206774 non-null  object        \n",
      " 9   to          206774 non-null  object        \n",
      " 10  price       206774 non-null  int64         \n",
      "dtypes: datetime64[ns](1), int64(2), object(8)\n",
      "memory usage: 17.4+ MB\n"
     ]
    }
   ],
   "source": [
    "# Mostrar las primeras filas\n",
    "print(\"Business Class Dataset:\")\n",
    "display(business_df.head())\n",
    "\n",
    "print(\"Economy Class Dataset:\")\n",
    "display(economy_df.head())\n",
    "\n",
    "# Ver información general de los datasets\n",
    "print(\"\\nInformación del dataset Business:\")\n",
    "business_df.info()\n",
    "\n",
    "print(\"\\nInformación del dataset Economy:\")\n",
    "economy_df.info()"
   ]
  },
  {
   "cell_type": "code",
   "execution_count": 11,
   "id": "d91e002e-bc1d-4249-b260-94fef63c18e0",
   "metadata": {},
   "outputs": [
    {
     "name": "stdout",
     "output_type": "stream",
     "text": [
      "\n",
      "Valores nulos en Business:\n",
      "date          0\n",
      "airline       0\n",
      "ch_code       0\n",
      "num_code      0\n",
      "dep_time      0\n",
      "from          0\n",
      "time_taken    0\n",
      "stop          0\n",
      "arr_time      0\n",
      "to            0\n",
      "price         0\n",
      "dtype: int64\n",
      "\n",
      "Valores nulos en Economy:\n",
      "date          0\n",
      "airline       0\n",
      "ch_code       0\n",
      "num_code      0\n",
      "dep_time      0\n",
      "from          0\n",
      "time_taken    0\n",
      "stop          0\n",
      "arr_time      0\n",
      "to            0\n",
      "price         0\n",
      "dtype: int64\n",
      "\n",
      "Descripción estadística Business:\n"
     ]
    },
    {
     "data": {
      "text/html": [
       "<div>\n",
       "<style scoped>\n",
       "    .dataframe tbody tr th:only-of-type {\n",
       "        vertical-align: middle;\n",
       "    }\n",
       "\n",
       "    .dataframe tbody tr th {\n",
       "        vertical-align: top;\n",
       "    }\n",
       "\n",
       "    .dataframe thead th {\n",
       "        text-align: right;\n",
       "    }\n",
       "</style>\n",
       "<table border=\"1\" class=\"dataframe\">\n",
       "  <thead>\n",
       "    <tr style=\"text-align: right;\">\n",
       "      <th></th>\n",
       "      <th>date</th>\n",
       "      <th>num_code</th>\n",
       "    </tr>\n",
       "  </thead>\n",
       "  <tbody>\n",
       "    <tr>\n",
       "      <th>count</th>\n",
       "      <td>93487</td>\n",
       "      <td>93487.000000</td>\n",
       "    </tr>\n",
       "    <tr>\n",
       "      <th>mean</th>\n",
       "      <td>2022-03-07 17:48:16.458331136</td>\n",
       "      <td>780.056147</td>\n",
       "    </tr>\n",
       "    <tr>\n",
       "      <th>min</th>\n",
       "      <td>2022-02-11 00:00:00</td>\n",
       "      <td>401.000000</td>\n",
       "    </tr>\n",
       "    <tr>\n",
       "      <th>25%</th>\n",
       "      <td>2022-02-24 00:00:00</td>\n",
       "      <td>706.000000</td>\n",
       "    </tr>\n",
       "    <tr>\n",
       "      <th>50%</th>\n",
       "      <td>2022-03-08 00:00:00</td>\n",
       "      <td>820.000000</td>\n",
       "    </tr>\n",
       "    <tr>\n",
       "      <th>75%</th>\n",
       "      <td>2022-03-20 00:00:00</td>\n",
       "      <td>874.000000</td>\n",
       "    </tr>\n",
       "    <tr>\n",
       "      <th>max</th>\n",
       "      <td>2022-03-31 00:00:00</td>\n",
       "      <td>996.000000</td>\n",
       "    </tr>\n",
       "    <tr>\n",
       "      <th>std</th>\n",
       "      <td>NaN</td>\n",
       "      <td>147.616038</td>\n",
       "    </tr>\n",
       "  </tbody>\n",
       "</table>\n",
       "</div>"
      ],
      "text/plain": [
       "                                date      num_code\n",
       "count                          93487  93487.000000\n",
       "mean   2022-03-07 17:48:16.458331136    780.056147\n",
       "min              2022-02-11 00:00:00    401.000000\n",
       "25%              2022-02-24 00:00:00    706.000000\n",
       "50%              2022-03-08 00:00:00    820.000000\n",
       "75%              2022-03-20 00:00:00    874.000000\n",
       "max              2022-03-31 00:00:00    996.000000\n",
       "std                              NaN    147.616038"
      ]
     },
     "metadata": {},
     "output_type": "display_data"
    },
    {
     "name": "stdout",
     "output_type": "stream",
     "text": [
      "\n",
      "Descripción estadística Economy:\n"
     ]
    },
    {
     "data": {
      "text/html": [
       "<div>\n",
       "<style scoped>\n",
       "    .dataframe tbody tr th:only-of-type {\n",
       "        vertical-align: middle;\n",
       "    }\n",
       "\n",
       "    .dataframe tbody tr th {\n",
       "        vertical-align: top;\n",
       "    }\n",
       "\n",
       "    .dataframe thead th {\n",
       "        text-align: right;\n",
       "    }\n",
       "</style>\n",
       "<table border=\"1\" class=\"dataframe\">\n",
       "  <thead>\n",
       "    <tr style=\"text-align: right;\">\n",
       "      <th></th>\n",
       "      <th>date</th>\n",
       "      <th>num_code</th>\n",
       "      <th>price</th>\n",
       "    </tr>\n",
       "  </thead>\n",
       "  <tbody>\n",
       "    <tr>\n",
       "      <th>count</th>\n",
       "      <td>206774</td>\n",
       "      <td>206774.000000</td>\n",
       "      <td>206774.000000</td>\n",
       "    </tr>\n",
       "    <tr>\n",
       "      <th>mean</th>\n",
       "      <td>2022-03-08 02:57:25.083037440</td>\n",
       "      <td>1706.096714</td>\n",
       "      <td>6571.190701</td>\n",
       "    </tr>\n",
       "    <tr>\n",
       "      <th>min</th>\n",
       "      <td>2022-02-11 00:00:00</td>\n",
       "      <td>101.000000</td>\n",
       "      <td>1105.000000</td>\n",
       "    </tr>\n",
       "    <tr>\n",
       "      <th>25%</th>\n",
       "      <td>2022-02-25 00:00:00</td>\n",
       "      <td>588.000000</td>\n",
       "      <td>4173.000000</td>\n",
       "    </tr>\n",
       "    <tr>\n",
       "      <th>50%</th>\n",
       "      <td>2022-03-08 00:00:00</td>\n",
       "      <td>818.000000</td>\n",
       "      <td>5772.000000</td>\n",
       "    </tr>\n",
       "    <tr>\n",
       "      <th>75%</th>\n",
       "      <td>2022-03-20 00:00:00</td>\n",
       "      <td>960.000000</td>\n",
       "      <td>7746.000000</td>\n",
       "    </tr>\n",
       "    <tr>\n",
       "      <th>max</th>\n",
       "      <td>2022-03-31 00:00:00</td>\n",
       "      <td>9991.000000</td>\n",
       "      <td>42349.000000</td>\n",
       "    </tr>\n",
       "    <tr>\n",
       "      <th>std</th>\n",
       "      <td>NaN</td>\n",
       "      <td>2320.463721</td>\n",
       "      <td>3743.442838</td>\n",
       "    </tr>\n",
       "  </tbody>\n",
       "</table>\n",
       "</div>"
      ],
      "text/plain": [
       "                                date       num_code          price\n",
       "count                         206774  206774.000000  206774.000000\n",
       "mean   2022-03-08 02:57:25.083037440    1706.096714    6571.190701\n",
       "min              2022-02-11 00:00:00     101.000000    1105.000000\n",
       "25%              2022-02-25 00:00:00     588.000000    4173.000000\n",
       "50%              2022-03-08 00:00:00     818.000000    5772.000000\n",
       "75%              2022-03-20 00:00:00     960.000000    7746.000000\n",
       "max              2022-03-31 00:00:00    9991.000000   42349.000000\n",
       "std                              NaN    2320.463721    3743.442838"
      ]
     },
     "metadata": {},
     "output_type": "display_data"
    }
   ],
   "source": [
    "# Identificar valores nulos\n",
    "print(\"\\nValores nulos en Business:\")\n",
    "print(business_df.isnull().sum())\n",
    "\n",
    "print(\"\\nValores nulos en Economy:\")\n",
    "print(economy_df.isnull().sum())\n",
    "\n",
    "# Descripción estadística\n",
    "print(\"\\nDescripción estadística Business:\")\n",
    "display(business_df.describe())\n",
    "\n",
    "print(\"\\nDescripción estadística Economy:\")\n",
    "display(economy_df.describe())"
   ]
  },
  {
   "cell_type": "code",
   "execution_count": 13,
   "id": "21002fa7-8f05-4ce3-8d8a-0b724a8647ca",
   "metadata": {},
   "outputs": [
    {
     "name": "stdout",
     "output_type": "stream",
     "text": [
      "float64\n"
     ]
    }
   ],
   "source": [
    "# Eliminar comas y convertir la columna 'price' a números en Business\n",
    "business_df['price'] = business_df['price'].astype(str).str.replace(',', '').astype(float)\n",
    "\n",
    "# Verificar la conversión\n",
    "print(business_df['price'].dtype)  # Debería mostrar 'float64'\n"
   ]
  },
  {
   "cell_type": "code",
   "execution_count": 15,
   "id": "3c01ae53-dd11-4064-a456-309b18032da3",
   "metadata": {},
   "outputs": [],
   "source": [
    "economy_df['price'] = economy_df['price'].astype(str).str.replace(',', '').astype(float)\n"
   ]
  },
  {
   "cell_type": "code",
   "execution_count": 17,
   "id": "0a8e92cb-242c-40fa-a94f-d58e8e4f1530",
   "metadata": {},
   "outputs": [
    {
     "name": "stdout",
     "output_type": "stream",
     "text": [
      "float64\n",
      "float64\n"
     ]
    }
   ],
   "source": [
    "print(business_df['price'].dtype)  # Debe ser float64 o int64\n",
    "print(economy_df['price'].dtype)  # Debe ser float64 o int64\n"
   ]
  },
  {
   "cell_type": "code",
   "execution_count": 19,
   "id": "b76602fc-9005-414f-a000-7565f376f0c2",
   "metadata": {},
   "outputs": [
    {
     "data": {
      "image/png": "[encoded data removed]",
      "text/plain": [
       "<Figure size 1200x500 with 1 Axes>"
      ]
     },
     "metadata": {},
     "output_type": "display_data"
    }
   ],
   "source": [
    "plt.figure(figsize=(12,5))\n",
    "sns.histplot(business_df['price'], bins=50, kde=True, color='blue', label=\"Business\")\n",
    "sns.histplot(economy_df['price'], bins=50, kde=True, color='red', label=\"Economy\")\n",
    "plt.legend()\n",
    "plt.title(\"Distribución de Precios de Boletos\")\n",
    "plt.show()"
   ]
  },
  {
   "cell_type": "code",
   "execution_count": 21,
   "id": "f5898f8f-0fb2-40f8-86aa-53967f0e0044",
   "metadata": {},
   "outputs": [],
   "source": [
    "#Conclusión Final\n",
    "#La mayoría de los boletos vendidos son de clase Economy, con precios accesibles y concentrados en un rango bajo.\n",
    "#Los boletos de Business son significativamente más caros, con una variabilidad de precios mucho mayor, lo que sugiere que existen diferentes niveles de lujo dentro de esta categoría.\n",
    "#Estrategia Comercial: Para maximizar ingresos, las aerolíneas podrían optimizar la fijación de precios en Business, asegurando que las tarifas premium realmente reflejen una mayor calidad de servicio."
   ]
  },
  {
   "cell_type": "code",
   "execution_count": 23,
   "id": "a97ea13b-e3f8-4f7c-980c-21164d18bd98",
   "metadata": {},
   "outputs": [
    {
     "data": {
      "image/png": "[encoded data removed]",
      "text/plain": [
       "<Figure size 1400x600 with 1 Axes>"
      ]
     },
     "metadata": {},
     "output_type": "display_data"
    },
    {
     "data": {
      "image/png": "[encoded data removed]",
      "text/plain": [
       "<Figure size 1400x600 with 1 Axes>"
      ]
     },
     "metadata": {},
     "output_type": "display_data"
    }
   ],
   "source": [
    "# Boxplot de precios por aerolínea\n",
    "plt.figure(figsize=(14,6))\n",
    "sns.boxplot(x='airline', y='price', data=business_df)\n",
    "plt.xticks(rotation=90)\n",
    "plt.title(\"Distribución de Precios por Aerolínea (Business)\")\n",
    "plt.show()\n",
    "\n",
    "plt.figure(figsize=(14,6))\n",
    "sns.boxplot(x='airline', y='price', data=economy_df)\n",
    "plt.xticks(rotation=90)\n",
    "plt.title(\"Distribución de Precios por Aerolínea (Economy)\")\n",
    "plt.show()"
   ]
  },
  {
   "cell_type": "code",
   "execution_count": 25,
   "id": "447a8f26-fad0-4d97-9279-f52b932ae29b",
   "metadata": {},
   "outputs": [
    {
     "name": "stdout",
     "output_type": "stream",
     "text": [
      "Columnas numéricas en Business: Index(['num_code', 'price'], dtype='object')\n",
      "Columnas numéricas en Economy: Index(['num_code', 'price'], dtype='object')\n"
     ]
    }
   ],
   "source": [
    "# Convertir la columna 'price' a número en caso de ser necesario\n",
    "business_df['price'] = business_df['price'].astype(str).str.replace(',', '').astype(float)\n",
    "economy_df['price'] = economy_df['price'].astype(str).str.replace(',', '').astype(float)\n",
    "\n",
    "# Seleccionar solo las columnas numéricas\n",
    "business_numeric = business_df.select_dtypes(include=['number'])\n",
    "economy_numeric = economy_df.select_dtypes(include=['number'])\n",
    "\n",
    "# Verificar las columnas seleccionadas\n",
    "print(\"Columnas numéricas en Business:\", business_numeric.columns)\n",
    "print(\"Columnas numéricas en Economy:\", economy_numeric.columns)\n",
    "\n",
    "\n",
    "\n"
   ]
  },
  {
   "cell_type": "code",
   "execution_count": 27,
   "id": "1cbeafa5-6614-4aaf-9af3-b0775188c037",
   "metadata": {},
   "outputs": [
    {
     "data": {
      "image/png": "[encoded data removed]",
      "text/plain": [
       "<Figure size 1000x600 with 2 Axes>"
      ]
     },
     "metadata": {},
     "output_type": "display_data"
    },
    {
     "data": {
      "image/png": "[encoded data removed]",
      "text/plain": [
       "<Figure size 1000x600 with 2 Axes>"
      ]
     },
     "metadata": {},
     "output_type": "display_data"
    }
   ],
   "source": [
    "#Análisis de correlaciones,determinamos qué variables tienen mayor relación con el precio. Matriz de correlación para Business\n",
    "plt.figure(figsize=(10,6))\n",
    "sns.heatmap(business_numeric.corr(), annot=True, cmap=\"coolwarm\")\n",
    "plt.title(\"Matriz de Correlación - Business\")\n",
    "plt.show()\n",
    "\n",
    "# Matriz de correlación para Economy\n",
    "plt.figure(figsize=(10,6))\n",
    "sns.heatmap(economy_numeric.corr(), annot=True, cmap=\"coolwarm\")\n",
    "plt.title(\"Matriz de Correlación - Economy\")\n",
    "plt.show()"
   ]
  },
  {
   "cell_type": "code",
   "execution_count": 29,
   "id": "aa01920f-b0c2-478c-aa52-a01169b148f4",
   "metadata": {},
   "outputs": [],
   "source": [
    "#Conclusiones de la Matriz de Correlación\n",
    "# Clase Ejecutiva:La correlación entre y es 0.22, lo que indica una correlación positiva baja. Esto significa que el código numérico de los vuelos tiene una leve relación con el precio, pero no es un predictor fuerte.num_codeprice\n",
    "# Clase Turista:La correlación entre y es -0.091, lo que indica una correlación negativa muy baja. Es decir, el código numérico de los vuelos prácticamente no tiene relación con el precio en esta clase.num_codeprice\n",
    "\n"
   ]
  },
  {
   "cell_type": "code",
   "execution_count": 31,
   "id": "fa7157a2-c9c1-402e-bc58-ada58be47d08",
   "metadata": {},
   "outputs": [
    {
     "name": "stdout",
     "output_type": "stream",
     "text": [
      "Datos limpios Business:\n"
     ]
    },
    {
     "data": {
      "text/html": [
       "<div>\n",
       "<style scoped>\n",
       "    .dataframe tbody tr th:only-of-type {\n",
       "        vertical-align: middle;\n",
       "    }\n",
       "\n",
       "    .dataframe tbody tr th {\n",
       "        vertical-align: top;\n",
       "    }\n",
       "\n",
       "    .dataframe thead th {\n",
       "        text-align: right;\n",
       "    }\n",
       "</style>\n",
       "<table border=\"1\" class=\"dataframe\">\n",
       "  <thead>\n",
       "    <tr style=\"text-align: right;\">\n",
       "      <th></th>\n",
       "      <th>date</th>\n",
       "      <th>airline</th>\n",
       "      <th>ch_code</th>\n",
       "      <th>num_code</th>\n",
       "      <th>dep_time</th>\n",
       "      <th>from</th>\n",
       "      <th>time_taken</th>\n",
       "      <th>stop</th>\n",
       "      <th>arr_time</th>\n",
       "      <th>to</th>\n",
       "      <th>price</th>\n",
       "    </tr>\n",
       "  </thead>\n",
       "  <tbody>\n",
       "    <tr>\n",
       "      <th>0</th>\n",
       "      <td>2022-02-11</td>\n",
       "      <td>0</td>\n",
       "      <td>0</td>\n",
       "      <td>868</td>\n",
       "      <td>121</td>\n",
       "      <td>2</td>\n",
       "      <td>12</td>\n",
       "      <td>24</td>\n",
       "      <td>131</td>\n",
       "      <td>5</td>\n",
       "      <td>25612.0</td>\n",
       "    </tr>\n",
       "    <tr>\n",
       "      <th>1</th>\n",
       "      <td>2022-02-11</td>\n",
       "      <td>0</td>\n",
       "      <td>0</td>\n",
       "      <td>624</td>\n",
       "      <td>131</td>\n",
       "      <td>2</td>\n",
       "      <td>15</td>\n",
       "      <td>24</td>\n",
       "      <td>146</td>\n",
       "      <td>5</td>\n",
       "      <td>25612.0</td>\n",
       "    </tr>\n",
       "    <tr>\n",
       "      <th>2</th>\n",
       "      <td>2022-02-11</td>\n",
       "      <td>0</td>\n",
       "      <td>0</td>\n",
       "      <td>531</td>\n",
       "      <td>140</td>\n",
       "      <td>2</td>\n",
       "      <td>282</td>\n",
       "      <td>0</td>\n",
       "      <td>140</td>\n",
       "      <td>5</td>\n",
       "      <td>42220.0</td>\n",
       "    </tr>\n",
       "    <tr>\n",
       "      <th>3</th>\n",
       "      <td>2022-02-11</td>\n",
       "      <td>0</td>\n",
       "      <td>0</td>\n",
       "      <td>839</td>\n",
       "      <td>154</td>\n",
       "      <td>2</td>\n",
       "      <td>303</td>\n",
       "      <td>0</td>\n",
       "      <td>175</td>\n",
       "      <td>5</td>\n",
       "      <td>44450.0</td>\n",
       "    </tr>\n",
       "    <tr>\n",
       "      <th>4</th>\n",
       "      <td>2022-02-11</td>\n",
       "      <td>0</td>\n",
       "      <td>0</td>\n",
       "      <td>544</td>\n",
       "      <td>113</td>\n",
       "      <td>2</td>\n",
       "      <td>65</td>\n",
       "      <td>0</td>\n",
       "      <td>175</td>\n",
       "      <td>5</td>\n",
       "      <td>46690.0</td>\n",
       "    </tr>\n",
       "  </tbody>\n",
       "</table>\n",
       "</div>"
      ],
      "text/plain": [
       "        date  airline  ch_code  num_code  dep_time  from  time_taken  stop  \\\n",
       "0 2022-02-11        0        0       868       121     2          12    24   \n",
       "1 2022-02-11        0        0       624       131     2          15    24   \n",
       "2 2022-02-11        0        0       531       140     2         282     0   \n",
       "3 2022-02-11        0        0       839       154     2         303     0   \n",
       "4 2022-02-11        0        0       544       113     2          65     0   \n",
       "\n",
       "   arr_time  to    price  \n",
       "0       131   5  25612.0  \n",
       "1       146   5  25612.0  \n",
       "2       140   5  42220.0  \n",
       "3       175   5  44450.0  \n",
       "4       175   5  46690.0  "
      ]
     },
     "metadata": {},
     "output_type": "display_data"
    },
    {
     "name": "stdout",
     "output_type": "stream",
     "text": [
      "Datos limpios Economy:\n"
     ]
    },
    {
     "data": {
      "text/html": [
       "<div>\n",
       "<style scoped>\n",
       "    .dataframe tbody tr th:only-of-type {\n",
       "        vertical-align: middle;\n",
       "    }\n",
       "\n",
       "    .dataframe tbody tr th {\n",
       "        vertical-align: top;\n",
       "    }\n",
       "\n",
       "    .dataframe thead th {\n",
       "        text-align: right;\n",
       "    }\n",
       "</style>\n",
       "<table border=\"1\" class=\"dataframe\">\n",
       "  <thead>\n",
       "    <tr style=\"text-align: right;\">\n",
       "      <th></th>\n",
       "      <th>date</th>\n",
       "      <th>airline</th>\n",
       "      <th>ch_code</th>\n",
       "      <th>num_code</th>\n",
       "      <th>dep_time</th>\n",
       "      <th>from</th>\n",
       "      <th>time_taken</th>\n",
       "      <th>stop</th>\n",
       "      <th>arr_time</th>\n",
       "      <th>to</th>\n",
       "      <th>price</th>\n",
       "    </tr>\n",
       "  </thead>\n",
       "  <tbody>\n",
       "    <tr>\n",
       "      <th>0</th>\n",
       "      <td>2022-02-11</td>\n",
       "      <td>4</td>\n",
       "      <td>6</td>\n",
       "      <td>8709</td>\n",
       "      <td>190</td>\n",
       "      <td>2</td>\n",
       "      <td>16</td>\n",
       "      <td>36</td>\n",
       "      <td>230</td>\n",
       "      <td>5</td>\n",
       "      <td>5953.0</td>\n",
       "    </tr>\n",
       "    <tr>\n",
       "      <th>1</th>\n",
       "      <td>2022-02-11</td>\n",
       "      <td>4</td>\n",
       "      <td>6</td>\n",
       "      <td>8157</td>\n",
       "      <td>40</td>\n",
       "      <td>2</td>\n",
       "      <td>18</td>\n",
       "      <td>36</td>\n",
       "      <td>81</td>\n",
       "      <td>5</td>\n",
       "      <td>5953.0</td>\n",
       "    </tr>\n",
       "    <tr>\n",
       "      <th>2</th>\n",
       "      <td>2022-02-11</td>\n",
       "      <td>1</td>\n",
       "      <td>4</td>\n",
       "      <td>764</td>\n",
       "      <td>17</td>\n",
       "      <td>2</td>\n",
       "      <td>16</td>\n",
       "      <td>36</td>\n",
       "      <td>56</td>\n",
       "      <td>5</td>\n",
       "      <td>5956.0</td>\n",
       "    </tr>\n",
       "    <tr>\n",
       "      <th>3</th>\n",
       "      <td>2022-02-11</td>\n",
       "      <td>7</td>\n",
       "      <td>7</td>\n",
       "      <td>995</td>\n",
       "      <td>88</td>\n",
       "      <td>2</td>\n",
       "      <td>17</td>\n",
       "      <td>36</td>\n",
       "      <td>128</td>\n",
       "      <td>5</td>\n",
       "      <td>5955.0</td>\n",
       "    </tr>\n",
       "    <tr>\n",
       "      <th>4</th>\n",
       "      <td>2022-02-11</td>\n",
       "      <td>7</td>\n",
       "      <td>7</td>\n",
       "      <td>963</td>\n",
       "      <td>70</td>\n",
       "      <td>2</td>\n",
       "      <td>18</td>\n",
       "      <td>36</td>\n",
       "      <td>111</td>\n",
       "      <td>5</td>\n",
       "      <td>5955.0</td>\n",
       "    </tr>\n",
       "  </tbody>\n",
       "</table>\n",
       "</div>"
      ],
      "text/plain": [
       "        date  airline  ch_code  num_code  dep_time  from  time_taken  stop  \\\n",
       "0 2022-02-11        4        6      8709       190     2          16    36   \n",
       "1 2022-02-11        4        6      8157        40     2          18    36   \n",
       "2 2022-02-11        1        4       764        17     2          16    36   \n",
       "3 2022-02-11        7        7       995        88     2          17    36   \n",
       "4 2022-02-11        7        7       963        70     2          18    36   \n",
       "\n",
       "   arr_time  to   price  \n",
       "0       230   5  5953.0  \n",
       "1        81   5  5953.0  \n",
       "2        56   5  5956.0  \n",
       "3       128   5  5955.0  \n",
       "4       111   5  5955.0  "
      ]
     },
     "metadata": {},
     "output_type": "display_data"
    }
   ],
   "source": [
    "#Preprocesamiento de datos ,limpieza y transformación de los datos.\n",
    "def clean_data(df):\n",
    "    # Eliminar valores nulos\n",
    "    df = df.dropna()\n",
    "    \n",
    "    # Convertir variables categóricas en numéricas\n",
    "    le = LabelEncoder()\n",
    "    for col in df.select_dtypes(include=['object']).columns:\n",
    "        df[col] = le.fit_transform(df[col])\n",
    "    \n",
    "    return df\n",
    "\n",
    "# Aplicar limpieza a los datasets\n",
    "business_clean = clean_data(business_df)\n",
    "economy_clean = clean_data(economy_df)\n",
    "\n",
    "print(\"Datos limpios Business:\")\n",
    "display(business_clean.head())\n",
    "\n",
    "print(\"Datos limpios Economy:\")\n",
    "display(economy_clean.head())\n"
   ]
  },
  {
   "cell_type": "code",
   "execution_count": 33,
   "id": "572a2eb7-213e-4f1b-962f-094c82febf22",
   "metadata": {},
   "outputs": [],
   "source": [
    "#Definir función de preprocesamiento,encapsulamos el tratamiento de datos en una función.\n",
    "def preprocess_data(df):\n",
    "    df = df.dropna()\n",
    "    le = LabelEncoder()\n",
    "    for col in df.select_dtypes(include=['object']).columns:\n",
    "        df[col] = le.fit_transform(df[col])\n",
    "    return df\n",
    "\n",
    "business_prepared = preprocess_data(business_df)\n",
    "economy_prepared = preprocess_data(economy_df)\n"
   ]
  },
  {
   "cell_type": "code",
   "execution_count": 35,
   "id": "93f11aa3-4eac-4023-a4e0-713bf69e0587",
   "metadata": {},
   "outputs": [
    {
     "name": "stdout",
     "output_type": "stream",
     "text": [
      "X_train_b ha sido redefinido.\n"
     ]
    }
   ],
   "source": [
    "#Transformar la Fecha (date) en Variables Numéricas\n",
    "X_train_b = pd.DataFrame({\n",
    "    \"airline\": np.random.randint(1, 10, size=100),\n",
    "    \"ch_code\": np.random.randint(1, 10, size=100),\n",
    "    \"num_code\": np.random.randint(100, 999, size=100),\n",
    "    \"dep_time\": np.random.randint(0, 24, size=100),\n",
    "    \"from\": np.random.randint(1, 10, size=100),\n",
    "    \"time_taken\": np.random.randint(1, 10, size=100),\n",
    "    \"stop\": np.random.randint(0, 2, size=100),\n",
    "    \"arr_time\": np.random.randint(0, 24, size=100),\n",
    "    \"to\": np.random.randint(1, 10, size=100),\n",
    "    \"year\": np.random.randint(2020, 2023, size=100),\n",
    "    \"month\": np.random.randint(1, 12, size=100),\n",
    "    \"day\": np.random.randint(1, 31, size=100),\n",
    "    \"day_of_week\": np.random.randint(0, 6, size=100)\n",
    "})\n",
    "\n",
    "print(\"X_train_b ha sido redefinido.\")"
   ]
  },
  {
   "cell_type": "code",
   "execution_count": 37,
   "id": "65980332-857a-4516-acd9-27ec9f198da6",
   "metadata": {},
   "outputs": [
    {
     "name": "stdout",
     "output_type": "stream",
     "text": [
      "Columnas de tipo object: []\n"
     ]
    }
   ],
   "source": [
    "object_cols = X_train_b.select_dtypes(include=['object']).columns\n",
    "print(\"Columnas de tipo object:\", object_cols.tolist())\n"
   ]
  },
  {
   "cell_type": "code",
   "execution_count": 39,
   "id": "b1f11b7c-5b42-4135-8ecd-ee83fb24573a",
   "metadata": {},
   "outputs": [],
   "source": [
    "X_train_b = X_train_b.drop(columns=object_cols)\n"
   ]
  },
  {
   "cell_type": "code",
   "execution_count": 41,
   "id": "6bec352e-ee6e-4da2-a01d-7689dc2482d5",
   "metadata": {},
   "outputs": [
    {
     "name": "stdout",
     "output_type": "stream",
     "text": [
      "Tipo de índice: int64\n"
     ]
    }
   ],
   "source": [
    "print(\"Tipo de índice:\", X_train_b.index.dtype)\n"
   ]
  },
  {
   "cell_type": "code",
   "execution_count": 43,
   "id": "2ffe4afb-704c-4334-868b-ab0b7ef9d287",
   "metadata": {},
   "outputs": [],
   "source": [
    "X_train_b.reset_index(drop=True, inplace=True)\n"
   ]
  },
  {
   "cell_type": "code",
   "execution_count": 45,
   "id": "ec57c271-1da1-49a6-9400-7d72fd286ecc",
   "metadata": {},
   "outputs": [
    {
     "name": "stdout",
     "output_type": "stream",
     "text": [
      "Tipo de índice: int64\n"
     ]
    }
   ],
   "source": [
    "print(\"Tipo de índice:\", X_train_b.index.dtype)\n"
   ]
  },
  {
   "cell_type": "code",
   "execution_count": 47,
   "id": "677f2fc5-629c-45ec-b66b-91495668a1d5",
   "metadata": {},
   "outputs": [
    {
     "name": "stdout",
     "output_type": "stream",
     "text": [
      "Columnas de tipo object: []\n"
     ]
    }
   ],
   "source": [
    "object_cols = X_train_b.select_dtypes(include=['object']).columns\n",
    "print(\"Columnas de tipo object:\", object_cols.tolist())\n"
   ]
  },
  {
   "cell_type": "code",
   "execution_count": 49,
   "id": "80b307f0-2601-48ac-9540-fe288d12db4d",
   "metadata": {},
   "outputs": [],
   "source": [
    "X_train_b = X_train_b.drop(columns=object_cols)\n"
   ]
  },
  {
   "cell_type": "code",
   "execution_count": 51,
   "id": "1c3dd187-90fb-410e-8b6b-f52081152a96",
   "metadata": {},
   "outputs": [
    {
     "name": "stdout",
     "output_type": "stream",
     "text": [
      "airline        int32\n",
      "ch_code        int32\n",
      "num_code       int32\n",
      "dep_time       int32\n",
      "from           int32\n",
      "time_taken     int32\n",
      "stop           int32\n",
      "arr_time       int32\n",
      "to             int32\n",
      "year           int32\n",
      "month          int32\n",
      "day            int32\n",
      "day_of_week    int32\n",
      "dtype: object\n"
     ]
    }
   ],
   "source": [
    "print(X_train_b.dtypes)\n"
   ]
  },
  {
   "cell_type": "code",
   "execution_count": 53,
   "id": "077f5433-8124-4782-8323-555631f482e0",
   "metadata": {},
   "outputs": [],
   "source": [
    "X_train_b.to_csv(\"temp.csv\", index=False)  # Guardar en CSV\n",
    "X_train_b = pd.read_csv(\"temp.csv\")  # Recargar desde CSV\n",
    "X_train_b = X_train_b.astype(float)  # Convertir todo a numérico\n"
   ]
  },
  {
   "cell_type": "code",
   "execution_count": 55,
   "id": "50bdc682-efd7-42ff-95ef-a81615104f42",
   "metadata": {},
   "outputs": [
    {
     "name": "stdout",
     "output_type": "stream",
     "text": [
      "['airline', 'ch_code', 'num_code', 'dep_time', 'from', 'time_taken', 'stop', 'arr_time', 'to', 'year', 'month', 'day', 'day_of_week']\n"
     ]
    }
   ],
   "source": [
    "print(X_train_b.columns.tolist())\n"
   ]
  },
  {
   "cell_type": "code",
   "execution_count": 57,
   "id": "fa595807-053f-47b4-a069-1314010af587",
   "metadata": {},
   "outputs": [
    {
     "name": "stdout",
     "output_type": "stream",
     "text": [
      "Columnas categóricas: []\n"
     ]
    }
   ],
   "source": [
    "# Verificar si aún existen columnas no numéricas\n",
    "object_cols = X_train_b.select_dtypes(include=['object']).columns\n",
    "print(\"Columnas categóricas:\", object_cols.tolist())\n",
    "\n",
    "# Si existen, eliminarlas o convertirlas\n",
    "if len(object_cols) > 0:\n",
    "    X_train_b = X_train_b.drop(columns=object_cols)  # Eliminar si no son relevantes\n"
   ]
  },
  {
   "cell_type": "code",
   "execution_count": 59,
   "id": "7bf7deb7-9e5c-45e1-846d-b6a1190b8fc8",
   "metadata": {},
   "outputs": [
    {
     "name": "stdout",
     "output_type": "stream",
     "text": [
      "Columnas disponibles en X_train_b: ['airline', 'ch_code', 'num_code', 'dep_time', 'from', 'time_taken', 'stop', 'arr_time', 'to', 'year', 'month', 'day', 'day_of_week']\n"
     ]
    }
   ],
   "source": [
    "print(\"Columnas disponibles en X_train_b:\", X_train_b.columns.tolist())\n"
   ]
  },
  {
   "cell_type": "code",
   "execution_count": 61,
   "id": "45f0ee73-385d-4e00-9caa-121764a23a3f",
   "metadata": {
    "scrolled": true
   },
   "outputs": [
    {
     "name": "stdout",
     "output_type": "stream",
     "text": [
      "Columnas en el dataset antes de dividir: ['airline', 'ch_code', 'num_code', 'dep_time', 'from', 'time_taken', 'stop', 'arr_time', 'to', 'year', 'month', 'day', 'day_of_week']\n"
     ]
    }
   ],
   "source": [
    "print(\"Columnas en el dataset antes de dividir:\", X_train_b.columns.tolist())\n"
   ]
  },
  {
   "cell_type": "code",
   "execution_count": 63,
   "id": "3eee1d4a-8011-404a-85b9-67b9733e7890",
   "metadata": {},
   "outputs": [
    {
     "name": "stdout",
     "output_type": "stream",
     "text": [
      "DecisionTreeRegressor\t GridSearchCV\t LabelEncoder\t LinearRegression\t RandomForestRegressor\t X_train_b\t business_clean\t business_df\t business_numeric\t \n",
      "business_prepared\t clean_data\t dataframe_columns\t dataframe_hash\t dtypes_str\t economy_clean\t economy_df\t economy_numeric\t economy_prepared\t \n",
      "get_dataframes\t getpass\t hashlib\t import_pandas_safely\t is_data_frame\t json\t mean_absolute_error\t mean_squared_error\t np\t \n",
      "object_cols\t pd\t plt\t preprocess_data\t r2_score\t sns\t train_test_split\t \n"
     ]
    }
   ],
   "source": [
    "%who"
   ]
  },
  {
   "cell_type": "code",
   "execution_count": 65,
   "id": "25dac75a-eab2-4857-b566-a64a0cb8173d",
   "metadata": {},
   "outputs": [
    {
     "name": "stdout",
     "output_type": "stream",
     "text": [
      "['date', 'airline', 'ch_code', 'num_code', 'dep_time', 'from', 'time_taken', 'stop', 'arr_time', 'to', 'price']\n",
      "['date', 'airline', 'ch_code', 'num_code', 'dep_time', 'from', 'time_taken', 'stop', 'arr_time', 'to', 'price']\n"
     ]
    }
   ],
   "source": [
    "print(business_df.columns.tolist())  # Si existe, mostrará las columnas\n",
    "print(economy_df.columns.tolist())   # Prueba con economy_df también\n"
   ]
  },
  {
   "cell_type": "code",
   "execution_count": 67,
   "id": "bee10c11-2c29-4ecc-8669-33ef23e0b56d",
   "metadata": {},
   "outputs": [],
   "source": [
    "y = business_df['price']  # Definir la variable objetivo\n",
    "X = business_df.drop(columns=['price'])  # Eliminar 'price' de las características\n"
   ]
  },
  {
   "cell_type": "code",
   "execution_count": 69,
   "id": "7c575c14-9ea3-4ccc-a514-d0a8d177b015",
   "metadata": {},
   "outputs": [
    {
     "name": "stdout",
     "output_type": "stream",
     "text": [
      "Tamaño del conjunto de entrenamiento: (74789, 10)\n",
      "Tamaño del conjunto de prueba: (18698, 10)\n"
     ]
    }
   ],
   "source": [
    "X_train, X_test, y_train, y_test = train_test_split(X, y, test_size=0.2, random_state=42)\n",
    "print(\"Tamaño del conjunto de entrenamiento:\", X_train.shape)\n",
    "print(\"Tamaño del conjunto de prueba:\", X_test.shape)"
   ]
  },
  {
   "cell_type": "code",
   "execution_count": 71,
   "id": "6c817ac8-a439-491b-b0c8-01540fee881a",
   "metadata": {},
   "outputs": [
    {
     "name": "stdout",
     "output_type": "stream",
     "text": [
      "date          datetime64[ns]\n",
      "airline               object\n",
      "ch_code               object\n",
      "num_code               int64\n",
      "dep_time              object\n",
      "from                  object\n",
      "time_taken            object\n",
      "stop                  object\n",
      "arr_time              object\n",
      "to                    object\n",
      "dtype: object\n",
      "float64\n"
     ]
    }
   ],
   "source": [
    "print(X_train.dtypes)\n",
    "print(y_train.dtypes)\n"
   ]
  },
  {
   "cell_type": "code",
   "execution_count": 73,
   "id": "640b0abd-97a0-403f-840b-8696da87f31f",
   "metadata": {},
   "outputs": [],
   "source": [
    "X_train['year'] = X_train['date'].dt.year\n",
    "X_train['month'] = X_train['date'].dt.month\n",
    "X_train['day'] = X_train['date'].dt.day\n",
    "X_train = X_train.drop(columns=['date'])\n",
    "\n",
    "X_test['year'] = X_test['date'].dt.year\n",
    "X_test['month'] = X_test['date'].dt.month\n",
    "X_test['day'] = X_test['date'].dt.day\n",
    "X_test = X_test.drop(columns=['date'])\n"
   ]
  },
  {
   "cell_type": "code",
   "execution_count": 75,
   "id": "7e00cfb8-c6db-4667-a145-7ebee7361d17",
   "metadata": {},
   "outputs": [
    {
     "name": "stdout",
     "output_type": "stream",
     "text": [
      "         airline ch_code  dep_time       from time_taken  \\\n",
      "21567  Air India      AI  05:45:00     Mumbai    12h 45m   \n",
      "37533    Vistara      UK  07:30:00     Mumbai    15h 15m   \n",
      "44336    Vistara      UK  21:10:00  Bangalore    15h 25m   \n",
      "86075    Vistara      UK  10:45:00    Chennai    11h 05m   \n",
      "58831    Vistara      UK  10:15:00    Kolkata    11h 00m   \n",
      "\n",
      "                                                    stop  arr_time       to  \n",
      "21567  1-stop\\n\\t\\t\\t\\t\\t\\t\\t\\t\\t\\t\\t\\t\\n\\t\\t\\t\\t\\t\\t...  18:30:00    Delhi  \n",
      "37533  1-stop\\n\\t\\t\\t\\t\\t\\t\\t\\t\\t\\t\\t\\t\\n\\t\\t\\t\\t\\t\\t...  22:45:00  Chennai  \n",
      "44336  1-stop\\n\\t\\t\\t\\t\\t\\t\\t\\t\\t\\t\\t\\t\\n\\t\\t\\t\\t\\t\\t...  12:35:00   Mumbai  \n",
      "86075  1-stop\\n\\t\\t\\t\\t\\t\\t\\t\\t\\t\\t\\t\\t\\n\\t\\t\\t\\t\\t\\t...  21:50:00   Mumbai  \n",
      "58831  1-stop\\n\\t\\t\\t\\t\\t\\t\\t\\t\\t\\t\\t\\t\\n\\t\\t\\t\\t\\t\\t...  21:15:00   Mumbai  \n"
     ]
    }
   ],
   "source": [
    "print(X_train.select_dtypes(include=['object']).head())\n"
   ]
  },
  {
   "cell_type": "code",
   "execution_count": 77,
   "id": "d3fe85cf-65ab-4793-9ff2-dadbc4105234",
   "metadata": {},
   "outputs": [],
   "source": [
    "X_train['stop'] = X_train['stop'].str.strip().str.replace(r'\\s+', ' ', regex=True)\n",
    "X_test['stop'] = X_test['stop'].str.strip().str.replace(r'\\s+', ' ', regex=True)\n"
   ]
  },
  {
   "cell_type": "code",
   "execution_count": 79,
   "id": "992b06f5-f6cc-41aa-8f67-1b61c400b839",
   "metadata": {},
   "outputs": [],
   "source": [
    "X_train['arr_time'] = pd.to_datetime(X_train['arr_time'], format='%H:%M:%S').dt.time\n",
    "X_test['arr_time'] = pd.to_datetime(X_test['arr_time'], format='%H:%M:%S').dt.time\n"
   ]
  },
  {
   "cell_type": "code",
   "execution_count": 81,
   "id": "f9920cad-b8c6-418e-8639-157e910c5301",
   "metadata": {},
   "outputs": [
    {
     "name": "stdout",
     "output_type": "stream",
     "text": [
      "object\n",
      "object\n"
     ]
    }
   ],
   "source": [
    "print(X_train['arr_time'].dtype)\n",
    "print(X_test['arr_time'].dtype)\n"
   ]
  },
  {
   "cell_type": "code",
   "execution_count": 83,
   "id": "8b032276-92b6-488d-9b11-a010890b6c7c",
   "metadata": {},
   "outputs": [
    {
     "name": "stdout",
     "output_type": "stream",
     "text": [
      "[datetime.time(21, 35) datetime.time(12, 40) datetime.time(20, 0)\n",
      " datetime.time(23, 55) datetime.time(9, 55) datetime.time(20, 5)\n",
      " datetime.time(22, 45) datetime.time(11, 50) datetime.time(12, 10)\n",
      " datetime.time(19, 35) datetime.time(11, 10) datetime.time(17, 0)\n",
      " datetime.time(23, 0) datetime.time(11, 35) datetime.time(13, 30)\n",
      " datetime.time(16, 55) datetime.time(10, 50) datetime.time(0, 10)\n",
      " datetime.time(22, 50) datetime.time(19, 15) datetime.time(8, 35)\n",
      " datetime.time(14, 10) datetime.time(11, 0) datetime.time(22, 40)\n",
      " datetime.time(9, 40) datetime.time(8, 55) datetime.time(16, 50)\n",
      " datetime.time(23, 25) datetime.time(7, 20) datetime.time(19, 20)\n",
      " datetime.time(17, 5) datetime.time(7, 55) datetime.time(22, 10)\n",
      " datetime.time(14, 20) datetime.time(18, 5) datetime.time(18, 0)\n",
      " datetime.time(20, 55) datetime.time(17, 50) datetime.time(16, 30)\n",
      " datetime.time(22, 0) datetime.time(17, 35) datetime.time(9, 35)\n",
      " datetime.time(18, 30) datetime.time(17, 40) datetime.time(18, 15)\n",
      " datetime.time(23, 40) datetime.time(8, 5) datetime.time(19, 55)\n",
      " datetime.time(22, 20) datetime.time(8, 50) datetime.time(16, 35)\n",
      " datetime.time(7, 50) datetime.time(19, 5) datetime.time(23, 5)\n",
      " datetime.time(23, 35) datetime.time(10, 40) datetime.time(9, 45)\n",
      " datetime.time(20, 40) datetime.time(17, 45) datetime.time(12, 35)\n",
      " datetime.time(9, 0) datetime.time(9, 10) datetime.time(10, 10)\n",
      " datetime.time(20, 45) datetime.time(12, 30) datetime.time(16, 25)\n",
      " datetime.time(10, 45) datetime.time(19, 50) datetime.time(23, 20)\n",
      " datetime.time(9, 5) datetime.time(7, 15) datetime.time(14, 30)\n",
      " datetime.time(21, 5) datetime.time(12, 50) datetime.time(8, 15)\n",
      " datetime.time(21, 15) datetime.time(8, 40) datetime.time(20, 15)\n",
      " datetime.time(23, 10) datetime.time(21, 55) datetime.time(11, 15)\n",
      " datetime.time(16, 15) datetime.time(18, 50) datetime.time(9, 15)\n",
      " datetime.time(13, 50) datetime.time(10, 55) datetime.time(20, 30)\n",
      " datetime.time(15, 0) datetime.time(13, 0) datetime.time(14, 5)\n",
      " datetime.time(10, 30) datetime.time(19, 10) datetime.time(20, 25)\n",
      " datetime.time(13, 55) datetime.time(20, 35) datetime.time(12, 15)\n",
      " datetime.time(7, 10) datetime.time(12, 55) datetime.time(16, 45)\n",
      " datetime.time(20, 20) datetime.time(5, 15) datetime.time(16, 20)\n",
      " datetime.time(12, 20) datetime.time(11, 25) datetime.time(14, 45)\n",
      " datetime.time(21, 50) datetime.time(8, 20) datetime.time(22, 25)\n",
      " datetime.time(11, 55) datetime.time(23, 15) datetime.time(22, 35)\n",
      " datetime.time(19, 0) datetime.time(23, 45) datetime.time(11, 30)\n",
      " datetime.time(18, 40) datetime.time(12, 25) datetime.time(14, 0)\n",
      " datetime.time(15, 40) datetime.time(19, 45) datetime.time(22, 55)\n",
      " datetime.time(8, 10) datetime.time(17, 25) datetime.time(8, 0)\n",
      " datetime.time(10, 15) datetime.time(10, 0) datetime.time(23, 50)\n",
      " datetime.time(9, 25) datetime.time(16, 0) datetime.time(21, 10)\n",
      " datetime.time(23, 30) datetime.time(20, 50) datetime.time(15, 55)\n",
      " datetime.time(0, 55) datetime.time(13, 25) datetime.time(19, 40)\n",
      " datetime.time(10, 25) datetime.time(15, 5) datetime.time(0, 40)\n",
      " datetime.time(15, 50) datetime.time(15, 20) datetime.time(8, 45)\n",
      " datetime.time(17, 10) datetime.time(11, 40) datetime.time(1, 50)\n",
      " datetime.time(18, 20) datetime.time(15, 10) datetime.time(13, 45)\n",
      " datetime.time(10, 35) datetime.time(18, 35) datetime.time(20, 10)\n",
      " datetime.time(21, 20) datetime.time(3, 40) datetime.time(15, 45)\n",
      " datetime.time(0, 30) datetime.time(11, 5) datetime.time(14, 55)\n",
      " datetime.time(4, 40) datetime.time(17, 15) datetime.time(15, 15)\n",
      " datetime.time(16, 5) datetime.time(21, 45) datetime.time(22, 15)\n",
      " datetime.time(13, 35) datetime.time(0, 20) datetime.time(0, 45)\n",
      " datetime.time(12, 0) datetime.time(18, 55) datetime.time(9, 20)\n",
      " datetime.time(12, 45)]\n"
     ]
    }
   ],
   "source": [
    "print(X_test['arr_time'].unique())\n"
   ]
  },
  {
   "cell_type": "code",
   "execution_count": 85,
   "id": "42cdf262-e93d-415c-b289-c3caf645d2b5",
   "metadata": {},
   "outputs": [
    {
     "name": "stdout",
     "output_type": "stream",
     "text": [
      "object\n"
     ]
    }
   ],
   "source": [
    "print(X_test['arr_time'].dtype)\n"
   ]
  },
  {
   "cell_type": "code",
   "execution_count": 87,
   "id": "3ea069cc-0cc4-47f5-81b4-4e91447d1902",
   "metadata": {},
   "outputs": [
    {
     "name": "stdout",
     "output_type": "stream",
     "text": [
      "object\n"
     ]
    }
   ],
   "source": [
    "print(X_train['arr_time'].dtype)\n"
   ]
  },
  {
   "cell_type": "code",
   "execution_count": 89,
   "id": "e56e0a76-2fb9-490f-b57e-46c674ebbbf3",
   "metadata": {},
   "outputs": [
    {
     "name": "stdout",
     "output_type": "stream",
     "text": [
      "<class 'pandas.core.series.Series'>\n",
      "(74789,)\n"
     ]
    }
   ],
   "source": [
    "print(type(X_train[\"arr_time\"]))  # Debe ser <class 'pandas.core.series.Series'>\n",
    "print(X_train[\"arr_time\"].shape)  # Debe mostrar (n, ) y no (n,1)\n"
   ]
  },
  {
   "cell_type": "code",
   "execution_count": 91,
   "id": "8483ce69-153f-44d6-a684-629a0f412c11",
   "metadata": {},
   "outputs": [
    {
     "name": "stdout",
     "output_type": "stream",
     "text": [
      "object\n",
      "[datetime.time(18, 30) datetime.time(22, 45) datetime.time(12, 35)\n",
      " datetime.time(21, 50) datetime.time(21, 15) datetime.time(12, 15)\n",
      " datetime.time(21, 35) datetime.time(10, 50) datetime.time(19, 15)\n",
      " datetime.time(23, 40)]\n",
      "0\n"
     ]
    }
   ],
   "source": [
    "print(X_train[\"arr_time\"].dtype)  # Verifica el tipo de dato actual\n",
    "print(X_train[\"arr_time\"].unique()[:10])  # Muestra algunos valores únicos\n",
    "print(X_train[\"arr_time\"].isnull().sum())  # Verifica si hay valores nulos\n"
   ]
  },
  {
   "cell_type": "code",
   "execution_count": 93,
   "id": "ab6dad77-415f-409d-ba35-d6155b9feb8a",
   "metadata": {},
   "outputs": [],
   "source": [
    "X_train[\"arr_time\"] = X_train[\"arr_time\"].apply(lambda x: x.hour * 60 + x.minute)\n"
   ]
  },
  {
   "cell_type": "code",
   "execution_count": 95,
   "id": "541f0a04-fead-47ff-92ae-83c793815283",
   "metadata": {},
   "outputs": [],
   "source": [
    "X_train['arr_time'] = X_train['arr_time'].astype('int64')\n"
   ]
  },
  {
   "cell_type": "code",
   "execution_count": 97,
   "id": "11e041e6-3ede-44cf-949f-5af509aedac0",
   "metadata": {},
   "outputs": [
    {
     "name": "stdout",
     "output_type": "stream",
     "text": [
      "int64\n",
      "object\n"
     ]
    }
   ],
   "source": [
    "print(X_train['arr_time'].dtype)\n",
    "print(X_test['arr_time'].dtype)\n"
   ]
  },
  {
   "cell_type": "code",
   "execution_count": 99,
   "id": "8167bd9b-b961-4078-bf47-f0ab0868cb1c",
   "metadata": {},
   "outputs": [
    {
     "name": "stdout",
     "output_type": "stream",
     "text": [
      "airline       object\n",
      "ch_code       object\n",
      "num_code       int64\n",
      "dep_time      object\n",
      "from          object\n",
      "time_taken    object\n",
      "stop          object\n",
      "arr_time       int64\n",
      "to            object\n",
      "year           int32\n",
      "month          int32\n",
      "day            int32\n",
      "dtype: object\n",
      "(74789, 12) (18698, 12)\n"
     ]
    }
   ],
   "source": [
    "print(X_train.dtypes)  # Verificar tipos de datos\n",
    "print(X_train.shape, X_test.shape)  # Verificar que tengan mismas columnas\n"
   ]
  },
  {
   "cell_type": "code",
   "execution_count": 101,
   "id": "f3284eaa-fa35-41e5-992d-0912b66fd7b5",
   "metadata": {},
   "outputs": [
    {
     "name": "stdout",
     "output_type": "stream",
     "text": [
      "Columnas en X_train: ['airline', 'ch_code', 'num_code', 'dep_time', 'from', 'time_taken', 'stop', 'arr_time', 'to', 'year', 'month', 'day']\n",
      "Columnas en X_test: ['airline', 'ch_code', 'num_code', 'dep_time', 'from', 'time_taken', 'stop', 'arr_time', 'to', 'year', 'month', 'day']\n"
     ]
    }
   ],
   "source": [
    "print(\"Columnas en X_train:\", X_train.columns.tolist())\n",
    "print(\"Columnas en X_test:\", X_test.columns.tolist())\n"
   ]
  },
  {
   "cell_type": "code",
   "execution_count": 103,
   "id": "db82e0f1-3b88-466d-a0de-de0a06164446",
   "metadata": {},
   "outputs": [
    {
     "name": "stdout",
     "output_type": "stream",
     "text": [
      "airline       object\n",
      "ch_code       object\n",
      "num_code       int64\n",
      "dep_time      object\n",
      "from          object\n",
      "time_taken    object\n",
      "stop          object\n",
      "arr_time       int64\n",
      "to            object\n",
      "year           int32\n",
      "month          int32\n",
      "day            int32\n",
      "dtype: object\n",
      "airline       object\n",
      "ch_code       object\n",
      "num_code       int64\n",
      "dep_time      object\n",
      "from          object\n",
      "time_taken    object\n",
      "stop          object\n",
      "arr_time      object\n",
      "to            object\n",
      "year           int32\n",
      "month          int32\n",
      "day            int32\n",
      "dtype: object\n"
     ]
    }
   ],
   "source": [
    "print(X_train.dtypes)\n",
    "print(X_test.dtypes)\n"
   ]
  },
  {
   "cell_type": "code",
   "execution_count": 105,
   "id": "225bc5f5-4cdf-4df0-bc9b-5e3eb3642a48",
   "metadata": {},
   "outputs": [
    {
     "name": "stdout",
     "output_type": "stream",
     "text": [
      "['05h 30m' '15h 05m' '26h 40m' '04h 55m' '15h 25m' '10h 20m' '08h 45m'\n",
      " '15h 30m' '29h 50m' '12h 05m' '04h 50m' '20h 25m' '19h 05m' '08h 15m'\n",
      " '02h 05m' '02h 45m' '19h 20m' '16h 05m' '14h 15m' '12h 25m' '22h 45m'\n",
      " '16h 10m' '11h 25m' '05h 05m' '14h 25m' '14h 55m' '02h 50m' '08h 05m'\n",
      " '11h 45m' '13h 50m' '24h 05m' '01h 45m' '12h 10m' '16h 15m' '21h 50m'\n",
      " '11h 30m' '26h 25m' '10h 50m' '15h 15m' '26h 20m' '07h 40m' '18h 10m'\n",
      " '15h 20m' '08h 00m' '15h 10m' '19h 55m' '18h 35m' '27h 20m' '04h 45m'\n",
      " '29h 30m' '07h 55m' '20h 00m' '17h 20m' '15h 40m' '13h 10m' '11h 35m'\n",
      " '16h 55m' '06h 30m' '11h 55m' '13h 00m' '07h 30m' '09h 50m' '12h 00m'\n",
      " '12h 20m' '12h 40m' '10h 30m' '23h 40m' '09h 20m' '13h 15m' '08h 50m'\n",
      " '10h 45m' '02h 40m' '12h 45m' '10h 55m' '11h 05m' '24h 20m' '06h 05m'\n",
      " '15h 00m' '14h 30m' '15h 55m' '14h 50m' '25h 15m' '08h 20m' '27h 35m'\n",
      " '20h 35m' '17h 30m' '09h 45m' '06h 50m' '16h 25m' '02h 15m' '22h 10m'\n",
      " '13h 20m' '11h 50m' '07h 35m' '12h 50m' '23h 25m' '12h 35m' '13h 25m'\n",
      " '02h 10m' '17h 10m' '13h 55m' '13h 35m' '07h 50m' '15h 45m' '11h 20m'\n",
      " '26h 30m' '08h 25m' '20h 40m' '16h 20m' '01h 35m' '09h 55m' '10h 10m'\n",
      " '26h 35m' '11h 15m' '26h 50m' '11h 10m' '17h 50m' '20h 45m' '18h 15m'\n",
      " '12h 30m' '17h 55m' '06h 35m' '20h 20m' '17h 35m' '21h 35m' '15h 35m'\n",
      " '17h 05m' '08h 10m' '11h 00m' '20h 15m' '12h 15m' '14h 45m' '19h 50m'\n",
      " '14h 05m' '09h 00m' '03h 05m' '19h 25m' '09h 35m' '07h 20m' '07h 05m'\n",
      " '05h 35m' '23h 00m' '14h 10m' '23h 35m' '13h 05m' '06h 20m' '06h 40m'\n",
      " '25h 25m' '13h 40m' '08h 30m' '24h 10m' '17h 15m' '05h 40m' '22h 05m'\n",
      " '18h 30m' '24h 40m' '22h 55m' '09h 05m' '20h 05m' '06h 00m' '06h 10m'\n",
      " '06h 55m' '04h 30m' '19h 45m' '24h 25m' '28h 00m' '09h 30m' '07h 45m'\n",
      " '27h 25m' '27h 10m' '22h 30m' '10h 25m' '25h 10m' '01h 55m' '25h 40m'\n",
      " '25h 35m' '05h 50m' '23h 50m' '23h 15m' '25h 05m' '22h 25m' '09h 15m'\n",
      " '29h 10m' '02h 55m' '25h 30m' '21h 30m' '21h 10m' '14h 40m' '23h 20m'\n",
      " '28h 30m' '24h 00m' '05h 10m' '24h 55m' '10h 05m' '09h 25m' '16h 30m'\n",
      " '07h 00m' '01h 40m' '14h 00m' '10h 15m' '17h 40m' '13h 45m' '20h 10m'\n",
      " '13h 30m' '16h 35m' '15h 50m' '18h 55m' '18h 45m' '21h 40m' '05h 25m'\n",
      " '03h 00m' '17h 25m' '10h 00m' '06h 25m' '18h 20m' '26h 10m' '27h 50m'\n",
      " '08h 55m' '11h 40m' '22h 15m' '26h 45m' '25h 55m' '06h 15m' '21h 00m'\n",
      " '19h 00m' '01h 50m' '29h 00m' '16h 00m' '22h 20m' '19h 15m' '16h 50m'\n",
      " '21h 45m' '26h 05m' '27h 30m' '05h 15m' '02h 20m' '07h 15m' '07h 25m'\n",
      " '09h 10m' '17h 45m' '25h 20m' '26h 00m' '23h 30m' '12h 55m' '02h 35m'\n",
      " '30h 15m' '23h 55m' '25h 00m' '17h 00m' '22h 50m' '24h 50m' '09h 40m'\n",
      " '02h 30m' '01h 30m' '26h 55m' '10h 40m' '22h 00m' '26h 15m' '08h 40m'\n",
      " '22h 40m' '25h 50m' '08h 35m' '16h 40m' '16h 45m' '07h 10m' '01h 20m'\n",
      " '24h 30m' '14h 35m' '21h 15m' '02h 25m' '19h 30m' '28h 05m' '24h 35m'\n",
      " '28h 15m' '05h 00m' '05h 45m' '01h 05m' '06h 45m' '03h 35m' '23h 05m'\n",
      " '24h 15m' '19h 40m' '01h 10m' '05h 20m' '03h 15m' '22h 35m' '18h 50m'\n",
      " '20h 30m' '03h 40m' '14h 20m' '03h 30m' '34h 20m' '20h 55m' '02h 00m'\n",
      " '37h 35m' '23h 10m' '05h 55m' '21h 25m' '23h 45m' '27h 55m' '04h 40m'\n",
      " '27h 05m' '27h 45m' '30h 35m' '28h 35m' '29h 40m' '01h 25m' '28h 20m'\n",
      " '04h 35m' '10h 35m' '03h 45m' '28h 55m' '27h 15m' '30h 05m' '28h 25m'\n",
      " '35h 05m' '20h 50m' '21h 55m' '21h 20m' '21h 05m' '18h 05m' '25h 45m'\n",
      " '04h 15m' '24h 45m' '27h 00m' '18h 25m' '04h 05m' '19h 10m' '18h 00m'\n",
      " '31h 10m' '31h 15m' '18h 40m' '32h 00m' '28h 50m' '04h 25m' '01h 00m'\n",
      " '19h 35m' '28h 10m' '04h 00m' '03h 55m' '01h 15m' '34h 00m' '03h 10m'\n",
      " '29h 15m' '30h 20m' '31h 05m' '03h 50m' '27h 40m' '29h 25m' '30h 30m'\n",
      " '29h 05m' '30h 00m' '36h 10m' '37h 45m' '34h 05m' '34h 25m']\n"
     ]
    }
   ],
   "source": [
    "print(X_test[\"time_taken\"].unique())\n"
   ]
  },
  {
   "cell_type": "code",
   "execution_count": 107,
   "id": "31f11c4c-24c7-4700-a7bc-1c2c550e0a9d",
   "metadata": {},
   "outputs": [
    {
     "name": "stdout",
     "output_type": "stream",
     "text": [
      "91395     330\n",
      "69621     905\n",
      "43497    1600\n",
      "58572     295\n",
      "36893     925\n",
      "Name: time_taken, dtype: int64\n",
      "int64\n"
     ]
    }
   ],
   "source": [
    "#Convertir time_taken a minutos totales\n",
    "import re\n",
    "\n",
    "# Función para convertir '05h 30m' -> 330 minutos\n",
    "def convert_to_minutes(time_str):\n",
    "    match = re.match(r\"(\\d+)h (\\d+)m\", time_str)\n",
    "    if match:\n",
    "        hours = int(match.group(1))\n",
    "        minutes = int(match.group(2))\n",
    "        return hours * 60 + minutes\n",
    "    return None  # Si no coincide con el formato esperado\n",
    "\n",
    "# Aplicar la función a la columna\n",
    "X_test[\"time_taken\"] = X_test[\"time_taken\"].apply(convert_to_minutes)\n",
    "\n",
    "# Verificar el resultado\n",
    "print(X_test[\"time_taken\"].head())\n",
    "print(X_test[\"time_taken\"].dtype)  # Debería mostrar int64 o int32\n"
   ]
  },
  {
   "cell_type": "code",
   "execution_count": 109,
   "id": "4e412cec-17f3-4cb9-bf7f-535adb960614",
   "metadata": {},
   "outputs": [],
   "source": [
    "# Manejar posibles valores nulos\n",
    "X_test[\"time_taken\"] = X_test[\"time_taken\"].fillna(X_test[\"time_taken\"].median())\n"
   ]
  },
  {
   "cell_type": "code",
   "execution_count": 111,
   "id": "22d4ade3-8bb1-4936-a988-52a2d1f3bc95",
   "metadata": {},
   "outputs": [
    {
     "name": "stdout",
     "output_type": "stream",
     "text": [
      "0\n"
     ]
    }
   ],
   "source": [
    "#Verificación \n",
    "print(X_test[\"time_taken\"].isnull().sum())  # Debería imprimir 0 si todo está bien\n"
   ]
  },
  {
   "cell_type": "code",
   "execution_count": 113,
   "id": "6702643a-70e3-4181-b653-d2e4e2aaf0c4",
   "metadata": {},
   "outputs": [
    {
     "name": "stdout",
     "output_type": "stream",
     "text": [
      "Tipos de datos en X_train:\n",
      " airline       object\n",
      "ch_code       object\n",
      "num_code       int64\n",
      "dep_time      object\n",
      "from          object\n",
      "time_taken    object\n",
      "stop          object\n",
      "arr_time       int64\n",
      "to            object\n",
      "year           int32\n",
      "month          int32\n",
      "day            int32\n",
      "dtype: object\n",
      "\n",
      "Tipos de datos en X_test:\n",
      " airline       object\n",
      "ch_code       object\n",
      "num_code       int64\n",
      "dep_time      object\n",
      "from          object\n",
      "time_taken     int64\n",
      "stop          object\n",
      "arr_time      object\n",
      "to            object\n",
      "year           int32\n",
      "month          int32\n",
      "day            int32\n",
      "dtype: object\n",
      "\n",
      "Columnas en X_train: ['airline', 'ch_code', 'num_code', 'dep_time', 'from', 'time_taken', 'stop', 'arr_time', 'to', 'year', 'month', 'day']\n",
      "Columnas en X_test: ['airline', 'ch_code', 'num_code', 'dep_time', 'from', 'time_taken', 'stop', 'arr_time', 'to', 'year', 'month', 'day']\n",
      "\n",
      "Valores nulos en X_train:\n",
      " airline       0\n",
      "ch_code       0\n",
      "num_code      0\n",
      "dep_time      0\n",
      "from          0\n",
      "time_taken    0\n",
      "stop          0\n",
      "arr_time      0\n",
      "to            0\n",
      "year          0\n",
      "month         0\n",
      "day           0\n",
      "dtype: int64\n",
      "\n",
      "Valores nulos en X_test:\n",
      " airline       0\n",
      "ch_code       0\n",
      "num_code      0\n",
      "dep_time      0\n",
      "from          0\n",
      "time_taken    0\n",
      "stop          0\n",
      "arr_time      0\n",
      "to            0\n",
      "year          0\n",
      "month         0\n",
      "day           0\n",
      "dtype: int64\n"
     ]
    }
   ],
   "source": [
    "# Verificar tipos de datos\n",
    "print(\"Tipos de datos en X_train:\\n\", X_train.dtypes)\n",
    "print(\"\\nTipos de datos en X_test:\\n\", X_test.dtypes)\n",
    "\n",
    "# Verificar que las columnas sean iguales en X_train y X_test\n",
    "print(\"\\nColumnas en X_train:\", X_train.columns.tolist())\n",
    "print(\"Columnas en X_test:\", X_test.columns.tolist())\n",
    "\n",
    "# Revisar valores nulos\n",
    "print(\"\\nValores nulos en X_train:\\n\", X_train.isnull().sum())\n",
    "print(\"\\nValores nulos en X_test:\\n\", X_test.isnull().sum())\n"
   ]
  },
  {
   "cell_type": "code",
   "execution_count": 115,
   "id": "0338a684-d47b-422f-a16c-ed83c0e39cbb",
   "metadata": {},
   "outputs": [],
   "source": [
    "from sklearn.preprocessing import LabelEncoder\n",
    "\n",
    "categorical_cols = ['airline', 'ch_code', 'dep_time', 'from', 'stop', 'to']  # Ajustar según el dataset\n",
    "label_encoders = {}\n",
    "\n",
    "for col in categorical_cols:\n",
    "    le = LabelEncoder()\n",
    "    X_train[col] = le.fit_transform(X_train[col])\n",
    "    X_test[col] = le.transform(X_test[col])  # Asegurar que X_test usa el mismo encoder\n",
    "    label_encoders[col] = le\n"
   ]
  },
  {
   "cell_type": "code",
   "execution_count": 117,
   "id": "44c382c0-312d-4eb0-a9bd-fde15cbfbde7",
   "metadata": {},
   "outputs": [
    {
     "name": "stdout",
     "output_type": "stream",
     "text": [
      "['12h 45m' '15h 15m' '15h 25m' '11h 05m' '11h 00m' '18h 30m' '03h 45m'\n",
      " '19h 25m' '18h 35m' '06h 20m' '09h 10m' '16h 10m' '09h 35m' '14h 25m'\n",
      " '10h 55m' '22h 25m' '14h 00m' '02h 40m' '23h 10m' '15h 30m']\n"
     ]
    }
   ],
   "source": [
    "print(X_train[\"time_taken\"].unique()[:20])  # Muestra los primeros 20 valores únicos\n"
   ]
  },
  {
   "cell_type": "code",
   "execution_count": 119,
   "id": "53a17f08-1007-4ae0-959b-05956ac8dbf4",
   "metadata": {},
   "outputs": [
    {
     "name": "stdout",
     "output_type": "stream",
     "text": [
      "[ 330  905 1600  295  925  620  525  930 1790  725  290 1225 1145  495\n",
      "  125  165 1160  965  855  745 1365  970  685  305  865  895  170  485\n",
      "  705  830 1445  105  730  975 1310  690 1585  650  915 1580  460 1090\n",
      "  920  480  910 1195 1115 1640  285 1770  475 1200 1040  940  790  695\n",
      " 1015  390  715  780  450  590  720  740  760  630 1420  560  795  530\n",
      "  645  160  765  655  665 1460  365  900  870  955  890 1515  500 1655\n",
      " 1235 1050  585  410  985  135 1330  800  710  455  770 1405  755  805\n",
      "  130 1030  835  815  470  945  680 1590  505 1240  980   95  595  610\n",
      " 1595  675 1610  670 1070 1245 1095  750 1075  395 1220 1055 1295  935\n",
      " 1025  490  660 1215  735  885 1190  845  540  185 1165  575  440  425\n",
      "  335 1380  850 1415  785  380  400 1525  820  510 1450 1035  340 1325\n",
      " 1110 1480 1375  545 1205  360  370  415  270 1185 1465 1680  570  465\n",
      " 1645 1630 1350  625 1510  115 1540 1535  350 1430 1395 1505 1345  555\n",
      " 1750  175 1530 1290 1270  880 1400 1710 1440  310 1495  605  565  990\n",
      "  420  100  840  615 1060  825 1210  810  995  950 1135 1125 1300  325\n",
      "  180 1045  600  385 1100 1570 1670  535  700 1335 1605 1555  375 1260\n",
      " 1140  110 1740  960 1340 1155 1010 1305 1565 1650  315  140  435  445\n",
      "  550 1065 1520 1560 1410  775  155 1815 1435 1500 1020 1370 1490  580\n",
      "  150   90 1615  640 1320 1575  520 1360 1550  515 1000 1005  430   80\n",
      " 1470  875 1275  145 1170 1685 1475 1695  300  345   65  405  215 1385\n",
      " 1455 1180   70  320  195 1355 1130 1230  220  860  210 2060 1255  120\n",
      " 2255 1390  355 1285 1425 1675  280 1625 1665 1835 1715 1780   85 1700\n",
      "  275  635  225 1735 1635 1805 1705 2105 1250 1315 1280 1265 1085 1545\n",
      "  255 1485 1620 1105  245 1150 1080 1870 1875 1120 1920 1730  265   60\n",
      " 1175 1690  240  235   75 2040  190 1755 1820 1865  230 1660 1765 1830\n",
      " 1745 1800 2170 2265 2045 2065]\n",
      "['12h 45m' '15h 15m' '15h 25m' '11h 05m' '11h 00m' '18h 30m' '03h 45m'\n",
      " '19h 25m' '18h 35m' '06h 20m' '09h 10m' '16h 10m' '09h 35m' '14h 25m'\n",
      " '10h 55m' '22h 25m' '14h 00m' '02h 40m' '23h 10m' '15h 30m' '16h 40m'\n",
      " '07h 30m' '10h 30m' '07h 40m' '08h 30m' '13h 05m' '23h 50m' '15h 10m'\n",
      " '17h 00m' '12h 55m' '17h 05m' '10h 00m' '19h 30m' '26h 45m' '13h 50m'\n",
      " '12h 10m' '13h 55m' '10h 05m' '02h 50m' '04h 30m' '21h 35m' '08h 05m'\n",
      " '26h 30m' '08h 50m' '02h 15m' '07h 35m' '20h 25m' '21h 10m' '23h 05m'\n",
      " '22h 00m' '22h 15m' '11h 10m' '11h 35m' '14h 45m' '07h 25m' '23h 55m'\n",
      " '21h 05m' '01h 45m' '24h 20m' '15h 40m' '09h 15m' '12h 05m' '02h 00m'\n",
      " '23h 45m' '26h 10m' '07h 50m' '16h 20m' '22h 40m' '17h 10m' '10h 10m'\n",
      " '19h 15m' '22h 30m' '07h 20m' '15h 45m' '30h 15m' '05h 15m' '06h 10m'\n",
      " '14h 10m' '05h 40m' '02h 20m' '21h 40m' '16h 00m' '09h 30m' '13h 45m'\n",
      " '32h 00m' '05h 20m' '16h 55m' '25h 40m' '23h 00m' '23h 15m' '08h 35m'\n",
      " '26h 35m' '25h 30m' '13h 20m' '12h 50m' '08h 00m' '03h 10m' '02h 10m'\n",
      " '06h 35m' '02h 05m' '21h 25m' '14h 05m' '14h 50m' '15h 55m' '08h 25m'\n",
      " '07h 45m' '23h 25m' '28h 25m' '25h 55m' '26h 55m' '16h 05m' '26h 25m'\n",
      " '05h 45m' '17h 40m' '25h 10m' '26h 40m' '27h 00m' '12h 00m' '04h 50m'\n",
      " '18h 55m' '20h 40m' '11h 45m' '24h 55m' '12h 25m' '20h 30m' '19h 55m'\n",
      " '02h 55m' '20h 20m' '14h 40m' '12h 35m' '23h 20m' '28h 00m' '20h 15m'\n",
      " '13h 35m' '22h 55m' '12h 20m' '25h 00m' '05h 25m' '12h 40m' '08h 55m'\n",
      " '13h 25m' '04h 25m' '10h 45m' '17h 25m' '09h 20m' '05h 10m' '17h 55m'\n",
      " '08h 15m' '10h 35m' '05h 50m' '20h 05m' '01h 55m' '21h 50m' '27h 20m'\n",
      " '14h 15m' '13h 00m' '01h 40m' '02h 35m' '11h 25m' '09h 55m' '13h 10m'\n",
      " '18h 40m' '17h 20m' '09h 45m' '18h 05m' '04h 45m' '19h 40m' '16h 25m'\n",
      " '10h 15m' '26h 50m' '19h 20m' '29h 50m' '19h 00m' '13h 40m' '23h 35m'\n",
      " '09h 40m' '13h 15m' '05h 35m' '11h 55m' '28h 05m' '15h 05m' '10h 20m'\n",
      " '17h 30m' '08h 20m' '20h 10m' '25h 15m' '15h 35m' '17h 15m' '02h 45m'\n",
      " '17h 50m' '05h 05m' '27h 10m' '17h 35m' '12h 15m' '06h 30m' '11h 15m'\n",
      " '05h 55m' '15h 00m' '08h 45m' '09h 50m' '11h 20m' '06h 00m' '18h 20m'\n",
      " '24h 15m' '12h 30m' '18h 50m' '21h 55m' '25h 05m' '16h 30m' '24h 50m'\n",
      " '10h 50m' '22h 50m' '16h 50m' '25h 50m' '24h 35m' '30h 30m' '06h 15m'\n",
      " '10h 25m' '06h 25m' '07h 55m' '07h 10m' '24h 30m' '21h 15m' '35h 05m'\n",
      " '26h 20m' '25h 25m' '03h 15m' '20h 55m' '27h 55m' '04h 15m' '21h 00m'\n",
      " '18h 25m' '06h 40m' '24h 00m' '09h 05m' '24h 25m' '13h 30m' '22h 45m'\n",
      " '05h 30m' '20h 50m' '09h 00m' '19h 10m' '23h 30m' '27h 15m' '14h 20m'\n",
      " '01h 50m' '09h 25m' '26h 05m' '24h 40m' '06h 45m' '19h 05m' '16h 35m'\n",
      " '10h 40m' '25h 35m' '18h 45m' '14h 35m' '02h 30m' '06h 55m' '11h 40m'\n",
      " '08h 10m' '26h 00m' '20h 00m' '01h 30m' '04h 35m' '14h 55m' '18h 10m'\n",
      " '24h 05m' '22h 20m' '25h 20m' '27h 35m' '25h 45m' '06h 05m' '15h 50m'\n",
      " '01h 35m' '21h 30m' '01h 20m' '05h 00m' '20h 45m' '19h 50m' '02h 25m'\n",
      " '26h 15m' '04h 55m' '14h 30m' '18h 00m' '27h 30m' '22h 10m' '18h 15m'\n",
      " '16h 15m' '17h 45m' '03h 05m' '23h 40m' '22h 05m' '11h 30m' '07h 05m'\n",
      " '21h 20m' '16h 45m' '11h 50m' '20h 35m' '31h 10m' '15h 20m' '19h 45m'\n",
      " '28h 45m' '08h 40m' '22h 35m' '28h 30m' '24h 10m' '29h 10m' '24h 45m'\n",
      " '03h 30m' '27h 05m' '01h 15m' '07h 00m' '27h 50m' '30h 20m' '07h 15m'\n",
      " '06h 50m' '29h 25m' '30h 40m' '27h 25m' '21h 45m' '28h 20m' '28h 40m'\n",
      " '28h 35m' '27h 45m' '04h 40m' '03h 40m' '30h 05m' '34h 35m' '34h 20m'\n",
      " '01h 25m' '28h 15m' '04h 05m' '28h 10m' '37h 55m' '27h 40m' '03h 50m'\n",
      " '31h 20m' '28h 55m' '29h 00m' '31h 15m' '29h 30m' '34h 30m' '30h 35m'\n",
      " '03h 35m' '19h 35m' '28h 50m' '03h 55m' '30h 00m' '04h 00m' '29h 05m'\n",
      " '31h 35m' '01h 00m' '31h 05m' '03h 00m' '29h 20m' '01h 10m' '29h 40m'\n",
      " '04h 10m' '45h 50m' '37h 50m' '40h 40m' '31h 40m' '30h 25m' '34h 05m'\n",
      " '47h 45m' '01h 05m' '36h 05m']\n"
     ]
    }
   ],
   "source": [
    "print(X_test[\"time_taken\"].unique())  # Ver los valores únicos en X_test\n",
    "print(X_train[\"time_taken\"].unique())  # Ver los valores únicos en X_train\n"
   ]
  },
  {
   "cell_type": "code",
   "execution_count": 121,
   "id": "6f381bf2-6f19-4865-9a66-04ba976120e0",
   "metadata": {},
   "outputs": [
    {
     "name": "stdout",
     "output_type": "stream",
     "text": [
      "X_train shape: (74789, 12), X_test shape: (18698, 12)\n",
      "y_train shape: (74789,), y_test shape: (18698,)\n"
     ]
    }
   ],
   "source": [
    "# Verificamos que las dimensiones sean correctas\n",
    "print(f\"X_train shape: {X_train.shape}, X_test shape: {X_test.shape}\")\n",
    "print(f\"y_train shape: {y_train.shape}, y_test shape: {y_test.shape}\")\n"
   ]
  },
  {
   "cell_type": "code",
   "execution_count": 123,
   "id": "e5443b52-759a-44ee-9ca9-ef31432b70f6",
   "metadata": {},
   "outputs": [],
   "source": [
    "# Definir los modelos candidatos\n",
    "from sklearn.ensemble import RandomForestRegressor, GradientBoostingRegressor\n",
    "models = {\n",
    "    \"Linear Regression\": LinearRegression(),\n",
    "    \"Random Forest\": RandomForestRegressor(),\n",
    "    \"Gradient Boosting\": GradientBoostingRegressor()\n",
    "}"
   ]
  },
  {
   "cell_type": "code",
   "execution_count": 125,
   "id": "ff882bd0-cbc4-4e40-ac2d-2dc8bf64c5cd",
   "metadata": {},
   "outputs": [
    {
     "name": "stdout",
     "output_type": "stream",
     "text": [
      "<class 'pandas.core.frame.DataFrame'>\n",
      "<class 'pandas.core.series.Series'>\n"
     ]
    }
   ],
   "source": [
    "print(type(X_train))\n",
    "print(type(y_train))\n"
   ]
  },
  {
   "cell_type": "code",
   "execution_count": 127,
   "id": "0aca1dc6-0b28-416e-aa4d-3fc419198dcc",
   "metadata": {},
   "outputs": [],
   "source": [
    "y_train = y_train.values.ravel()  # Convierte a un array de una dimensión\n"
   ]
  },
  {
   "cell_type": "code",
   "execution_count": 129,
   "id": "de9094e7-0098-425b-9f1d-cf4f09234139",
   "metadata": {},
   "outputs": [
    {
     "name": "stdout",
     "output_type": "stream",
     "text": [
      "Valores desconocidos en time_taken: {2060, 2065, 2105, 60, 65, 70, 75, 80, 85, 90, 95, 100, 105, 110, 115, 120, 2170, 125, 130, 135, 140, 145, 150, 155, 160, 165, 170, 175, 180, 185, 190, 195, 2255, 210, 215, 2265, 220, 225, 230, 235, 240, 245, 255, 265, 270, 275, 280, 285, 290, 295, 300, 305, 310, 315, 320, 325, 330, 335, 340, 345, 350, 355, 360, 365, 370, 375, 380, 385, 390, 395, 400, 405, 410, 415, 420, 425, 430, 435, 440, 445, 450, 455, 460, 465, 470, 475, 480, 485, 490, 495, 500, 505, 510, 515, 520, 525, 530, 535, 540, 545, 550, 555, 560, 565, 570, 575, 580, 585, 590, 595, 600, 605, 610, 615, 620, 625, 630, 635, 640, 645, 650, 655, 660, 665, 670, 675, 680, 685, 690, 695, 700, 705, 710, 715, 720, 725, 730, 735, 740, 745, 750, 755, 760, 765, 770, 775, 780, 785, 790, 795, 800, 805, 810, 815, 820, 825, 830, 835, 840, 845, 850, 855, 860, 865, 870, 875, 880, 885, 890, 895, 900, 905, 910, 915, 920, 925, 930, 935, 940, 945, 950, 955, 960, 965, 970, 975, 980, 985, 990, 995, 1000, 1005, 1010, 1015, 1020, 1025, 1030, 1035, 1040, 1045, 1050, 1055, 1060, 1065, 1070, 1075, 1080, 1085, 1090, 1095, 1100, 1105, 1110, 1115, 1120, 1125, 1130, 1135, 1140, 1145, 1150, 1155, 1160, 1165, 1170, 1175, 1180, 1185, 1190, 1195, 1200, 1205, 1210, 1215, 1220, 1225, 1230, 1235, 1240, 1245, 1250, 1255, 1260, 1265, 1270, 1275, 1280, 1285, 1290, 1295, 1300, 1305, 1310, 1315, 1320, 1325, 1330, 1335, 1340, 1345, 1350, 1355, 1360, 1365, 1370, 1375, 1380, 1385, 1390, 1395, 1400, 1405, 1410, 1415, 1420, 1425, 1430, 1435, 1440, 1445, 1450, 1455, 1460, 1465, 1470, 1475, 1480, 1485, 1490, 1495, 1500, 1505, 1510, 1515, 1520, 1525, 1530, 1535, 1540, 1545, 1550, 1555, 1560, 1565, 1570, 1575, 1580, 1585, 1590, 1595, 1600, 1605, 1610, 1615, 1620, 1625, 1630, 1635, 1640, 1645, 1650, 1655, 1660, 1665, 1670, 1675, 1680, 1685, 1690, 1695, 1700, 1705, 1710, 1715, 1730, 1735, 1740, 1745, 1750, 1755, 1765, 1770, 1780, 1790, 1800, 1805, 1815, 1820, 1830, 1835, 1865, 1870, 1875, 1920, 2040, 2045}\n",
      "Valores desconocidos en arr_time: {datetime.time(19, 55), datetime.time(13, 25), datetime.time(8, 15), datetime.time(19, 15), datetime.time(8, 20), datetime.time(0, 55), datetime.time(19, 50), datetime.time(22, 15), datetime.time(19, 40), datetime.time(11, 50), datetime.time(9, 40), datetime.time(20, 40), datetime.time(23, 45), datetime.time(18, 40), datetime.time(18, 5), datetime.time(16, 5), datetime.time(11, 35), datetime.time(19, 20), datetime.time(17, 15), datetime.time(20, 30), datetime.time(17, 35), datetime.time(5, 15), datetime.time(11, 30), datetime.time(16, 45), datetime.time(20, 45), datetime.time(0, 30), datetime.time(0, 45), datetime.time(23, 15), datetime.time(17, 25), datetime.time(14, 20), datetime.time(0, 40), datetime.time(22, 25), datetime.time(17, 5), datetime.time(20, 0), datetime.time(9, 5), datetime.time(23, 50), datetime.time(14, 45), datetime.time(9, 15), datetime.time(13, 35), datetime.time(7, 10), datetime.time(19, 35), datetime.time(10, 45), datetime.time(15, 50), datetime.time(23, 0), datetime.time(8, 10), datetime.time(10, 55), datetime.time(22, 45), datetime.time(12, 55), datetime.time(7, 15), datetime.time(21, 35), datetime.time(21, 10), datetime.time(20, 15), datetime.time(23, 35), datetime.time(22, 10), datetime.time(15, 5), datetime.time(22, 40), datetime.time(15, 40), datetime.time(20, 20), datetime.time(21, 45), datetime.time(16, 35), datetime.time(9, 35), datetime.time(18, 0), datetime.time(11, 15), datetime.time(20, 25), datetime.time(11, 55), datetime.time(10, 35), datetime.time(7, 50), datetime.time(10, 40), datetime.time(17, 45), datetime.time(12, 30), datetime.time(23, 40), datetime.time(11, 0), datetime.time(16, 15), datetime.time(13, 55), datetime.time(12, 20), datetime.time(12, 10), datetime.time(3, 40), datetime.time(10, 0), datetime.time(19, 10), datetime.time(22, 35), datetime.time(9, 0), datetime.time(15, 55), datetime.time(9, 10), datetime.time(15, 45), datetime.time(10, 25), datetime.time(1, 50), datetime.time(16, 25), datetime.time(12, 0), datetime.time(16, 55), datetime.time(16, 50), datetime.time(20, 55), datetime.time(23, 20), datetime.time(20, 10), datetime.time(23, 5), datetime.time(15, 20), datetime.time(11, 25), datetime.time(22, 55), datetime.time(8, 0), datetime.time(19, 45), datetime.time(4, 40), datetime.time(22, 20), datetime.time(14, 5), datetime.time(16, 20), datetime.time(12, 50), datetime.time(8, 40), datetime.time(23, 30), datetime.time(15, 0), datetime.time(22, 0), datetime.time(14, 0), datetime.time(8, 50), datetime.time(17, 50), datetime.time(16, 0), datetime.time(12, 25), datetime.time(7, 20), datetime.time(15, 10), datetime.time(8, 55), datetime.time(15, 15), datetime.time(11, 5), datetime.time(22, 50), datetime.time(14, 30), datetime.time(9, 45), datetime.time(10, 50), datetime.time(10, 30), datetime.time(18, 35), datetime.time(17, 40), datetime.time(9, 20), datetime.time(14, 10), datetime.time(18, 50), datetime.time(12, 40), datetime.time(20, 35), datetime.time(19, 0), datetime.time(21, 55), datetime.time(0, 10), datetime.time(23, 10), datetime.time(21, 20), datetime.time(20, 5), datetime.time(18, 55), datetime.time(23, 55), datetime.time(17, 10), datetime.time(13, 30), datetime.time(11, 10), datetime.time(13, 0), datetime.time(21, 50), datetime.time(18, 15), datetime.time(13, 45), datetime.time(8, 5), datetime.time(11, 40), datetime.time(10, 15), datetime.time(18, 30), datetime.time(0, 20), datetime.time(8, 35), datetime.time(19, 5), datetime.time(9, 25), datetime.time(13, 50), datetime.time(20, 50), datetime.time(21, 15), datetime.time(12, 15), datetime.time(23, 25), datetime.time(16, 30), datetime.time(7, 55), datetime.time(10, 10), datetime.time(9, 55), datetime.time(17, 0), datetime.time(12, 45), datetime.time(12, 35), datetime.time(21, 5), datetime.time(8, 45), datetime.time(14, 55), datetime.time(18, 20)}\n"
     ]
    }
   ],
   "source": [
    "for col in X_train.columns:\n",
    "    train_categories = set(X_train[col].unique())\n",
    "    test_categories = set(X_test[col].unique())\n",
    "    unknown_categories = test_categories - train_categories\n",
    "    if unknown_categories:\n",
    "        print(f\"Valores desconocidos en {col}: {unknown_categories}\")\n"
   ]
  },
  {
   "cell_type": "code",
   "execution_count": 131,
   "id": "6b66e675-a19c-433a-af3c-95f0247cc97b",
   "metadata": {},
   "outputs": [],
   "source": [
    "categorical_cols = ['time_taken', 'arr_time']  # Ajusta según las columnas categóricas\n",
    "for col in categorical_cols:\n",
    "    known_categories = set(X_train[col].unique())\n",
    "    X_test[col] = X_test[col].apply(lambda x: x if x in known_categories else \"UNKNOWN\")\n"
   ]
  },
  {
   "cell_type": "code",
   "execution_count": 133,
   "id": "aa73abc2-3c0e-43c5-a1f6-79d97d99f6a0",
   "metadata": {},
   "outputs": [
    {
     "name": "stdout",
     "output_type": "stream",
     "text": [
      "Transformación exitosa: X_train y X_test ahora tienen las mismas columnas\n"
     ]
    }
   ],
   "source": [
    "from sklearn.preprocessing import OneHotEncoder\n",
    "\n",
    "# Crear y entrenar el codificador\n",
    "encoder = OneHotEncoder(handle_unknown=\"ignore\", sparse_output=False)\n",
    "X_train_encoded = encoder.fit_transform(X_train)\n",
    "\n",
    "# Asegurar que X_test tiene las mismas columnas\n",
    "X_test_encoded = encoder.transform(X_test)\n",
    "\n",
    "# Convertir a DataFrame y rellenar columnas faltantes con 0\n",
    "train_encoded_df = pd.DataFrame(X_train_encoded, columns=encoder.get_feature_names_out())\n",
    "test_encoded_df = pd.DataFrame(X_test_encoded, columns=encoder.get_feature_names_out())\n",
    "\n",
    "# Identificar columnas faltantes en X_test\n",
    "missing_cols = set(train_encoded_df.columns) - set(test_encoded_df.columns)\n",
    "for col in missing_cols:\n",
    "    test_encoded_df[col] = 0  # Agregar columnas faltantes con 0\n",
    "\n",
    "# Reordenar las columnas de X_test para que coincidan con X_train\n",
    "test_encoded_df = test_encoded_df[train_encoded_df.columns]\n",
    "\n",
    "print(\"Transformación exitosa: X_train y X_test ahora tienen las mismas columnas\")"
   ]
  },
  {
   "cell_type": "code",
   "execution_count": 135,
   "id": "75b313e9-79b9-43b2-a840-e29f808468e3",
   "metadata": {},
   "outputs": [],
   "source": [
    "from sklearn.ensemble import RandomForestRegressor\n",
    "from sklearn.model_selection import train_test_split\n",
    "\n",
    "# Definir X e y\n",
    "X_train_final = train_encoded_df\n",
    "X_test_final = test_encoded_df\n",
    "y_train_final = y_train  # Asegurar que y_train no ha cambiado en el preprocesamiento\n",
    "y_test_final = y_test\n",
    "\n",
    "# Entrenar el modelo\n",
    "model = RandomForestRegressor(n_estimators=100, random_state=42)\n",
    "model.fit(X_train_final, y_train_final)\n",
    "\n",
    "# Hacer predicciones\n",
    "y_pred = model.predict(X_test_final)\n"
   ]
  },
  {
   "cell_type": "code",
   "execution_count": 137,
   "id": "6452079f-713b-4585-b36b-7df1b4084a34",
   "metadata": {},
   "outputs": [
    {
     "name": "stdout",
     "output_type": "stream",
     "text": [
      "MAE: 3201.1243\n",
      "MSE: 38554974.0251\n",
      "R² Score: 0.7720\n"
     ]
    }
   ],
   "source": [
    "#Evaluación del Modelo,para evaluar el desempeño del modelo, usaremos tres métricas comunes,(MAE),(MSE),(R² Score).\n",
    "from sklearn.metrics import mean_absolute_error, mean_squared_error, r2_score\n",
    "\n",
    "mae = mean_absolute_error(y_test_final, y_pred)\n",
    "mse = mean_squared_error(y_test_final, y_pred)\n",
    "r2 = r2_score(y_test_final, y_pred)\n",
    "\n",
    "print(f\"MAE: {mae:.4f}\")\n",
    "print(f\"MSE: {mse:.4f}\")\n",
    "print(f\"R² Score: {r2:.4f}\")\n"
   ]
  },
  {
   "cell_type": "code",
   "execution_count": 139,
   "id": "90724906-658a-4f86-97d4-cbc56edd3133",
   "metadata": {},
   "outputs": [
    {
     "name": "stdout",
     "output_type": "stream",
     "text": [
      "Baseline MAE: 7330.0929\n",
      "Baseline MSE: 122338556.6391\n",
      "Baseline R² Score: 0.2766\n"
     ]
    }
   ],
   "source": [
    "#Comparar Modelo Optimizado vs. Baseline\n",
    "from sklearn.linear_model import LinearRegression\n",
    "\n",
    "baseline_model = LinearRegression()\n",
    "baseline_model.fit(X_train_final, y_train_final)\n",
    "y_pred_baseline = baseline_model.predict(X_test_final)\n",
    "\n",
    "# Evaluar el modelo baseline\n",
    "mae_baseline = mean_absolute_error(y_test_final, y_pred_baseline)\n",
    "mse_baseline = mean_squared_error(y_test_final, y_pred_baseline)\n",
    "r2_baseline = r2_score(y_test_final, y_pred_baseline)\n",
    "\n",
    "print(f\"Baseline MAE: {mae_baseline:.4f}\")\n",
    "print(f\"Baseline MSE: {mse_baseline:.4f}\")\n",
    "print(f\"Baseline R² Score: {r2_baseline:.4f}\")\n"
   ]
  },
  {
   "cell_type": "code",
   "execution_count": 141,
   "id": "ef42569b-8f7a-4007-948d-7b1ccb9030d4",
   "metadata": {},
   "outputs": [],
   "source": [
    "from sklearn.ensemble import RandomForestRegressor\n",
    "model = RandomForestRegressor(random_state=42)  # Definir el modelo\n"
   ]
  },
  {
   "cell_type": "code",
   "execution_count": 143,
   "id": "4db3f468-8e40-4669-8dbb-f1301033cb0c",
   "metadata": {},
   "outputs": [
    {
     "name": "stdout",
     "output_type": "stream",
     "text": [
      "<class 'pandas.core.frame.DataFrame'> <class 'numpy.ndarray'>\n",
      "(74789, 1046) (74789,)\n"
     ]
    }
   ],
   "source": [
    "# verificacion de los datos \n",
    "print(type(X_train_final), type(y_train_final))\n",
    "print(X_train_final.shape, y_train_final.shape)\n"
   ]
  },
  {
   "cell_type": "code",
   "execution_count": 145,
   "id": "811bc540-5ea6-4d55-bad0-8788da2575d6",
   "metadata": {},
   "outputs": [
    {
     "name": "stdout",
     "output_type": "stream",
     "text": [
      "NaN en X_train_final: 0\n",
      "Inf en X_train_final: 0\n"
     ]
    }
   ],
   "source": [
    "#verificacion de los datos \n",
    "print(\"NaN en X_train_final:\", np.isnan(X_train_final).sum().sum())\n",
    "print(\"Inf en X_train_final:\", np.isinf(X_train_final).sum().sum())\n"
   ]
  },
  {
   "cell_type": "code",
   "execution_count": 147,
   "id": "17ca51f9-301c-4dfe-b791-7e738c3a2d01",
   "metadata": {},
   "outputs": [],
   "source": [
    "#librerias necesarias \n",
    "from sklearn.model_selection import RandomizedSearchCV\n"
   ]
  },
  {
   "cell_type": "code",
   "execution_count": 149,
   "id": "b4cf1631-f7ef-4c73-874e-eaeab1bf820b",
   "metadata": {},
   "outputs": [],
   "source": [
    "n_iter=5  # Reducido de 10 a 5\n"
   ]
  },
  {
   "cell_type": "code",
   "execution_count": 151,
   "id": "bc2fc59e-197a-4d62-866c-2b410585de3e",
   "metadata": {},
   "outputs": [],
   "source": [
    "param_dist = {\n",
    "    'n_estimators': np.arange(50, 301, 100)  # Genera [50, 150, 250]\n",
    "}\n"
   ]
  },
  {
   "cell_type": "code",
   "execution_count": 153,
   "id": "2cfda20c-80ea-49c2-ac59-27533d4092e4",
   "metadata": {},
   "outputs": [
    {
     "name": "stdout",
     "output_type": "stream",
     "text": [
      "Fitting 3 folds for each of 3 candidates, totalling 9 fits\n",
      "[CV] END max_depth=10, min_samples_leaf=1, min_samples_split=2, n_estimators=150; total time=10.6min\n",
      "[CV] END max_depth=10, min_samples_leaf=1, min_samples_split=2, n_estimators=150; total time=10.2min\n",
      "[CV] END max_depth=10, min_samples_leaf=1, min_samples_split=2, n_estimators=150; total time= 9.8min\n",
      "[CV] END max_depth=10, min_samples_leaf=1, min_samples_split=5, n_estimators=150; total time=10.9min\n",
      "[CV] END max_depth=10, min_samples_leaf=1, min_samples_split=5, n_estimators=150; total time=10.6min\n",
      "[CV] END max_depth=10, min_samples_leaf=1, min_samples_split=5, n_estimators=150; total time=10.5min\n",
      "[CV] END max_depth=10, min_samples_leaf=1, min_samples_split=2, n_estimators=50; total time= 3.6min\n",
      "[CV] END max_depth=10, min_samples_leaf=1, min_samples_split=2, n_estimators=50; total time= 3.5min\n",
      "[CV] END max_depth=10, min_samples_leaf=1, min_samples_split=2, n_estimators=50; total time= 3.6min\n"
     ]
    },
    {
     "data": {
      "text/html": [
       "<style>#sk-container-id-1 {\n",
       "  /* Definition of color scheme common for light and dark mode */\n",
       "  --sklearn-color-text: #000;\n",
       "  --sklearn-color-text-muted: #666;\n",
       "  --sklearn-color-line: gray;\n",
       "  /* Definition of color scheme for unfitted estimators */\n",
       "  --sklearn-color-unfitted-level-0: #fff5e6;\n",
       "  --sklearn-color-unfitted-level-1: #f6e4d2;\n",
       "  --sklearn-color-unfitted-level-2: #ffe0b3;\n",
       "  --sklearn-color-unfitted-level-3: chocolate;\n",
       "  /* Definition of color scheme for fitted estimators */\n",
       "  --sklearn-color-fitted-level-0: #f0f8ff;\n",
       "  --sklearn-color-fitted-level-1: #d4ebff;\n",
       "  --sklearn-color-fitted-level-2: #b3dbfd;\n",
       "  --sklearn-color-fitted-level-3: cornflowerblue;\n",
       "\n",
       "  /* Specific color for light theme */\n",
       "  --sklearn-color-text-on-default-background: var(--sg-text-color, var(--theme-code-foreground, var(--jp-content-font-color1, black)));\n",
       "  --sklearn-color-background: var(--sg-background-color, var(--theme-background, var(--jp-layout-color0, white)));\n",
       "  --sklearn-color-border-box: var(--sg-text-color, var(--theme-code-foreground, var(--jp-content-font-color1, black)));\n",
       "  --sklearn-color-icon: #696969;\n",
       "\n",
       "  @media (prefers-color-scheme: dark) {\n",
       "    /* Redefinition of color scheme for dark theme */\n",
       "    --sklearn-color-text-on-default-background: var(--sg-text-color, var(--theme-code-foreground, var(--jp-content-font-color1, white)));\n",
       "    --sklearn-color-background: var(--sg-background-color, var(--theme-background, var(--jp-layout-color0, #111)));\n",
       "    --sklearn-color-border-box: var(--sg-text-color, var(--theme-code-foreground, var(--jp-content-font-color1, white)));\n",
       "    --sklearn-color-icon: #878787;\n",
       "  }\n",
       "}\n",
       "\n",
       "#sk-container-id-1 {\n",
       "  color: var(--sklearn-color-text);\n",
       "}\n",
       "\n",
       "#sk-container-id-1 pre {\n",
       "  padding: 0;\n",
       "}\n",
       "\n",
       "#sk-container-id-1 input.sk-hidden--visually {\n",
       "  border: 0;\n",
       "  clip: rect(1px 1px 1px 1px);\n",
       "  clip: rect(1px, 1px, 1px, 1px);\n",
       "  height: 1px;\n",
       "  margin: -1px;\n",
       "  overflow: hidden;\n",
       "  padding: 0;\n",
       "  position: absolute;\n",
       "  width: 1px;\n",
       "}\n",
       "\n",
       "#sk-container-id-1 div.sk-dashed-wrapped {\n",
       "  border: 1px dashed var(--sklearn-color-line);\n",
       "  margin: 0 0.4em 0.5em 0.4em;\n",
       "  box-sizing: border-box;\n",
       "  padding-bottom: 0.4em;\n",
       "  background-color: var(--sklearn-color-background);\n",
       "}\n",
       "\n",
       "#sk-container-id-1 div.sk-container {\n",
       "  /* jupyter's `normalize.less` sets `[hidden] { display: none; }`\n",
       "     but bootstrap.min.css set `[hidden] { display: none !important; }`\n",
       "     so we also need the `!important` here to be able to override the\n",
       "     default hidden behavior on the sphinx rendered scikit-learn.org.\n",
       "     See: https://github.com/scikit-learn/scikit-learn/issues/21755 */\n",
       "  display: inline-block !important;\n",
       "  position: relative;\n",
       "}\n",
       "\n",
       "#sk-container-id-1 div.sk-text-repr-fallback {\n",
       "  display: none;\n",
       "}\n",
       "\n",
       "div.sk-parallel-item,\n",
       "div.sk-serial,\n",
       "div.sk-item {\n",
       "  /* draw centered vertical line to link estimators */\n",
       "  background-image: linear-gradient(var(--sklearn-color-text-on-default-background), var(--sklearn-color-text-on-default-background));\n",
       "  background-size: 2px 100%;\n",
       "  background-repeat: no-repeat;\n",
       "  background-position: center center;\n",
       "}\n",
       "\n",
       "/* Parallel-specific style estimator block */\n",
       "\n",
       "#sk-container-id-1 div.sk-parallel-item::after {\n",
       "  content: \"\";\n",
       "  width: 100%;\n",
       "  border-bottom: 2px solid var(--sklearn-color-text-on-default-background);\n",
       "  flex-grow: 1;\n",
       "}\n",
       "\n",
       "#sk-container-id-1 div.sk-parallel {\n",
       "  display: flex;\n",
       "  align-items: stretch;\n",
       "  justify-content: center;\n",
       "  background-color: var(--sklearn-color-background);\n",
       "  position: relative;\n",
       "}\n",
       "\n",
       "#sk-container-id-1 div.sk-parallel-item {\n",
       "  display: flex;\n",
       "  flex-direction: column;\n",
       "}\n",
       "\n",
       "#sk-container-id-1 div.sk-parallel-item:first-child::after {\n",
       "  align-self: flex-end;\n",
       "  width: 50%;\n",
       "}\n",
       "\n",
       "#sk-container-id-1 div.sk-parallel-item:last-child::after {\n",
       "  align-self: flex-start;\n",
       "  width: 50%;\n",
       "}\n",
       "\n",
       "#sk-container-id-1 div.sk-parallel-item:only-child::after {\n",
       "  width: 0;\n",
       "}\n",
       "\n",
       "/* Serial-specific style estimator block */\n",
       "\n",
       "#sk-container-id-1 div.sk-serial {\n",
       "  display: flex;\n",
       "  flex-direction: column;\n",
       "  align-items: center;\n",
       "  background-color: var(--sklearn-color-background);\n",
       "  padding-right: 1em;\n",
       "  padding-left: 1em;\n",
       "}\n",
       "\n",
       "\n",
       "/* Toggleable style: style used for estimator/Pipeline/ColumnTransformer box that is\n",
       "clickable and can be expanded/collapsed.\n",
       "- Pipeline and ColumnTransformer use this feature and define the default style\n",
       "- Estimators will overwrite some part of the style using the `sk-estimator` class\n",
       "*/\n",
       "\n",
       "/* Pipeline and ColumnTransformer style (default) */\n",
       "\n",
       "#sk-container-id-1 div.sk-toggleable {\n",
       "  /* Default theme specific background. It is overwritten whether we have a\n",
       "  specific estimator or a Pipeline/ColumnTransformer */\n",
       "  background-color: var(--sklearn-color-background);\n",
       "}\n",
       "\n",
       "/* Toggleable label */\n",
       "#sk-container-id-1 label.sk-toggleable__label {\n",
       "  cursor: pointer;\n",
       "  display: flex;\n",
       "  width: 100%;\n",
       "  margin-bottom: 0;\n",
       "  padding: 0.5em;\n",
       "  box-sizing: border-box;\n",
       "  text-align: center;\n",
       "  align-items: start;\n",
       "  justify-content: space-between;\n",
       "  gap: 0.5em;\n",
       "}\n",
       "\n",
       "#sk-container-id-1 label.sk-toggleable__label .caption {\n",
       "  font-size: 0.6rem;\n",
       "  font-weight: lighter;\n",
       "  color: var(--sklearn-color-text-muted);\n",
       "}\n",
       "\n",
       "#sk-container-id-1 label.sk-toggleable__label-arrow:before {\n",
       "  /* Arrow on the left of the label */\n",
       "  content: \"▸\";\n",
       "  float: left;\n",
       "  margin-right: 0.25em;\n",
       "  color: var(--sklearn-color-icon);\n",
       "}\n",
       "\n",
       "#sk-container-id-1 label.sk-toggleable__label-arrow:hover:before {\n",
       "  color: var(--sklearn-color-text);\n",
       "}\n",
       "\n",
       "/* Toggleable content - dropdown */\n",
       "\n",
       "#sk-container-id-1 div.sk-toggleable__content {\n",
       "  max-height: 0;\n",
       "  max-width: 0;\n",
       "  overflow: hidden;\n",
       "  text-align: left;\n",
       "  /* unfitted */\n",
       "  background-color: var(--sklearn-color-unfitted-level-0);\n",
       "}\n",
       "\n",
       "#sk-container-id-1 div.sk-toggleable__content.fitted {\n",
       "  /* fitted */\n",
       "  background-color: var(--sklearn-color-fitted-level-0);\n",
       "}\n",
       "\n",
       "#sk-container-id-1 div.sk-toggleable__content pre {\n",
       "  margin: 0.2em;\n",
       "  border-radius: 0.25em;\n",
       "  color: var(--sklearn-color-text);\n",
       "  /* unfitted */\n",
       "  background-color: var(--sklearn-color-unfitted-level-0);\n",
       "}\n",
       "\n",
       "#sk-container-id-1 div.sk-toggleable__content.fitted pre {\n",
       "  /* unfitted */\n",
       "  background-color: var(--sklearn-color-fitted-level-0);\n",
       "}\n",
       "\n",
       "#sk-container-id-1 input.sk-toggleable__control:checked~div.sk-toggleable__content {\n",
       "  /* Expand drop-down */\n",
       "  max-height: 200px;\n",
       "  max-width: 100%;\n",
       "  overflow: auto;\n",
       "}\n",
       "\n",
       "#sk-container-id-1 input.sk-toggleable__control:checked~label.sk-toggleable__label-arrow:before {\n",
       "  content: \"▾\";\n",
       "}\n",
       "\n",
       "/* Pipeline/ColumnTransformer-specific style */\n",
       "\n",
       "#sk-container-id-1 div.sk-label input.sk-toggleable__control:checked~label.sk-toggleable__label {\n",
       "  color: var(--sklearn-color-text);\n",
       "  background-color: var(--sklearn-color-unfitted-level-2);\n",
       "}\n",
       "\n",
       "#sk-container-id-1 div.sk-label.fitted input.sk-toggleable__control:checked~label.sk-toggleable__label {\n",
       "  background-color: var(--sklearn-color-fitted-level-2);\n",
       "}\n",
       "\n",
       "/* Estimator-specific style */\n",
       "\n",
       "/* Colorize estimator box */\n",
       "#sk-container-id-1 div.sk-estimator input.sk-toggleable__control:checked~label.sk-toggleable__label {\n",
       "  /* unfitted */\n",
       "  background-color: var(--sklearn-color-unfitted-level-2);\n",
       "}\n",
       "\n",
       "#sk-container-id-1 div.sk-estimator.fitted input.sk-toggleable__control:checked~label.sk-toggleable__label {\n",
       "  /* fitted */\n",
       "  background-color: var(--sklearn-color-fitted-level-2);\n",
       "}\n",
       "\n",
       "#sk-container-id-1 div.sk-label label.sk-toggleable__label,\n",
       "#sk-container-id-1 div.sk-label label {\n",
       "  /* The background is the default theme color */\n",
       "  color: var(--sklearn-color-text-on-default-background);\n",
       "}\n",
       "\n",
       "/* On hover, darken the color of the background */\n",
       "#sk-container-id-1 div.sk-label:hover label.sk-toggleable__label {\n",
       "  color: var(--sklearn-color-text);\n",
       "  background-color: var(--sklearn-color-unfitted-level-2);\n",
       "}\n",
       "\n",
       "/* Label box, darken color on hover, fitted */\n",
       "#sk-container-id-1 div.sk-label.fitted:hover label.sk-toggleable__label.fitted {\n",
       "  color: var(--sklearn-color-text);\n",
       "  background-color: var(--sklearn-color-fitted-level-2);\n",
       "}\n",
       "\n",
       "/* Estimator label */\n",
       "\n",
       "#sk-container-id-1 div.sk-label label {\n",
       "  font-family: monospace;\n",
       "  font-weight: bold;\n",
       "  display: inline-block;\n",
       "  line-height: 1.2em;\n",
       "}\n",
       "\n",
       "#sk-container-id-1 div.sk-label-container {\n",
       "  text-align: center;\n",
       "}\n",
       "\n",
       "/* Estimator-specific */\n",
       "#sk-container-id-1 div.sk-estimator {\n",
       "  font-family: monospace;\n",
       "  border: 1px dotted var(--sklearn-color-border-box);\n",
       "  border-radius: 0.25em;\n",
       "  box-sizing: border-box;\n",
       "  margin-bottom: 0.5em;\n",
       "  /* unfitted */\n",
       "  background-color: var(--sklearn-color-unfitted-level-0);\n",
       "}\n",
       "\n",
       "#sk-container-id-1 div.sk-estimator.fitted {\n",
       "  /* fitted */\n",
       "  background-color: var(--sklearn-color-fitted-level-0);\n",
       "}\n",
       "\n",
       "/* on hover */\n",
       "#sk-container-id-1 div.sk-estimator:hover {\n",
       "  /* unfitted */\n",
       "  background-color: var(--sklearn-color-unfitted-level-2);\n",
       "}\n",
       "\n",
       "#sk-container-id-1 div.sk-estimator.fitted:hover {\n",
       "  /* fitted */\n",
       "  background-color: var(--sklearn-color-fitted-level-2);\n",
       "}\n",
       "\n",
       "/* Specification for estimator info (e.g. \"i\" and \"?\") */\n",
       "\n",
       "/* Common style for \"i\" and \"?\" */\n",
       "\n",
       ".sk-estimator-doc-link,\n",
       "a:link.sk-estimator-doc-link,\n",
       "a:visited.sk-estimator-doc-link {\n",
       "  float: right;\n",
       "  font-size: smaller;\n",
       "  line-height: 1em;\n",
       "  font-family: monospace;\n",
       "  background-color: var(--sklearn-color-background);\n",
       "  border-radius: 1em;\n",
       "  height: 1em;\n",
       "  width: 1em;\n",
       "  text-decoration: none !important;\n",
       "  margin-left: 0.5em;\n",
       "  text-align: center;\n",
       "  /* unfitted */\n",
       "  border: var(--sklearn-color-unfitted-level-1) 1pt solid;\n",
       "  color: var(--sklearn-color-unfitted-level-1);\n",
       "}\n",
       "\n",
       ".sk-estimator-doc-link.fitted,\n",
       "a:link.sk-estimator-doc-link.fitted,\n",
       "a:visited.sk-estimator-doc-link.fitted {\n",
       "  /* fitted */\n",
       "  border: var(--sklearn-color-fitted-level-1) 1pt solid;\n",
       "  color: var(--sklearn-color-fitted-level-1);\n",
       "}\n",
       "\n",
       "/* On hover */\n",
       "div.sk-estimator:hover .sk-estimator-doc-link:hover,\n",
       ".sk-estimator-doc-link:hover,\n",
       "div.sk-label-container:hover .sk-estimator-doc-link:hover,\n",
       ".sk-estimator-doc-link:hover {\n",
       "  /* unfitted */\n",
       "  background-color: var(--sklearn-color-unfitted-level-3);\n",
       "  color: var(--sklearn-color-background);\n",
       "  text-decoration: none;\n",
       "}\n",
       "\n",
       "div.sk-estimator.fitted:hover .sk-estimator-doc-link.fitted:hover,\n",
       ".sk-estimator-doc-link.fitted:hover,\n",
       "div.sk-label-container:hover .sk-estimator-doc-link.fitted:hover,\n",
       ".sk-estimator-doc-link.fitted:hover {\n",
       "  /* fitted */\n",
       "  background-color: var(--sklearn-color-fitted-level-3);\n",
       "  color: var(--sklearn-color-background);\n",
       "  text-decoration: none;\n",
       "}\n",
       "\n",
       "/* Span, style for the box shown on hovering the info icon */\n",
       ".sk-estimator-doc-link span {\n",
       "  display: none;\n",
       "  z-index: 9999;\n",
       "  position: relative;\n",
       "  font-weight: normal;\n",
       "  right: .2ex;\n",
       "  padding: .5ex;\n",
       "  margin: .5ex;\n",
       "  width: min-content;\n",
       "  min-width: 20ex;\n",
       "  max-width: 50ex;\n",
       "  color: var(--sklearn-color-text);\n",
       "  box-shadow: 2pt 2pt 4pt #999;\n",
       "  /* unfitted */\n",
       "  background: var(--sklearn-color-unfitted-level-0);\n",
       "  border: .5pt solid var(--sklearn-color-unfitted-level-3);\n",
       "}\n",
       "\n",
       ".sk-estimator-doc-link.fitted span {\n",
       "  /* fitted */\n",
       "  background: var(--sklearn-color-fitted-level-0);\n",
       "  border: var(--sklearn-color-fitted-level-3);\n",
       "}\n",
       "\n",
       ".sk-estimator-doc-link:hover span {\n",
       "  display: block;\n",
       "}\n",
       "\n",
       "/* \"?\"-specific style due to the `<a>` HTML tag */\n",
       "\n",
       "#sk-container-id-1 a.estimator_doc_link {\n",
       "  float: right;\n",
       "  font-size: 1rem;\n",
       "  line-height: 1em;\n",
       "  font-family: monospace;\n",
       "  background-color: var(--sklearn-color-background);\n",
       "  border-radius: 1rem;\n",
       "  height: 1rem;\n",
       "  width: 1rem;\n",
       "  text-decoration: none;\n",
       "  /* unfitted */\n",
       "  color: var(--sklearn-color-unfitted-level-1);\n",
       "  border: var(--sklearn-color-unfitted-level-1) 1pt solid;\n",
       "}\n",
       "\n",
       "#sk-container-id-1 a.estimator_doc_link.fitted {\n",
       "  /* fitted */\n",
       "  border: var(--sklearn-color-fitted-level-1) 1pt solid;\n",
       "  color: var(--sklearn-color-fitted-level-1);\n",
       "}\n",
       "\n",
       "/* On hover */\n",
       "#sk-container-id-1 a.estimator_doc_link:hover {\n",
       "  /* unfitted */\n",
       "  background-color: var(--sklearn-color-unfitted-level-3);\n",
       "  color: var(--sklearn-color-background);\n",
       "  text-decoration: none;\n",
       "}\n",
       "\n",
       "#sk-container-id-1 a.estimator_doc_link.fitted:hover {\n",
       "  /* fitted */\n",
       "  background-color: var(--sklearn-color-fitted-level-3);\n",
       "}\n",
       "</style><div id=\"sk-container-id-1\" class=\"sk-top-container\"><div class=\"sk-text-repr-fallback\"><pre>RandomizedSearchCV(cv=3, estimator=RandomForestRegressor(random_state=42),\n",
       "                   n_iter=3, n_jobs=1,\n",
       "                   param_distributions={&#x27;max_depth&#x27;: [10],\n",
       "                                        &#x27;min_samples_leaf&#x27;: [1],\n",
       "                                        &#x27;min_samples_split&#x27;: [2, 5],\n",
       "                                        &#x27;n_estimators&#x27;: [50, 150]},\n",
       "                   random_state=42, scoring=&#x27;neg_mean_absolute_error&#x27;,\n",
       "                   verbose=2)</pre><b>In a Jupyter environment, please rerun this cell to show the HTML representation or trust the notebook. <br />On GitHub, the HTML representation is unable to render, please try loading this page with nbviewer.org.</b></div><div class=\"sk-container\" hidden><div class=\"sk-item sk-dashed-wrapped\"><div class=\"sk-label-container\"><div class=\"sk-label fitted sk-toggleable\"><input class=\"sk-toggleable__control sk-hidden--visually\" id=\"sk-estimator-id-1\" type=\"checkbox\" ><label for=\"sk-estimator-id-1\" class=\"sk-toggleable__label fitted sk-toggleable__label-arrow\"><div><div>RandomizedSearchCV</div></div><div><a class=\"sk-estimator-doc-link fitted\" rel=\"noreferrer\" target=\"_blank\" href=\"https://scikit-learn.org/1.6/modules/generated/sklearn.model_selection.RandomizedSearchCV.html\">?<span>Documentation for RandomizedSearchCV</span></a><span class=\"sk-estimator-doc-link fitted\">i<span>Fitted</span></span></div></label><div class=\"sk-toggleable__content fitted\"><pre>RandomizedSearchCV(cv=3, estimator=RandomForestRegressor(random_state=42),\n",
       "                   n_iter=3, n_jobs=1,\n",
       "                   param_distributions={&#x27;max_depth&#x27;: [10],\n",
       "                                        &#x27;min_samples_leaf&#x27;: [1],\n",
       "                                        &#x27;min_samples_split&#x27;: [2, 5],\n",
       "                                        &#x27;n_estimators&#x27;: [50, 150]},\n",
       "                   random_state=42, scoring=&#x27;neg_mean_absolute_error&#x27;,\n",
       "                   verbose=2)</pre></div> </div></div><div class=\"sk-parallel\"><div class=\"sk-parallel-item\"><div class=\"sk-item\"><div class=\"sk-label-container\"><div class=\"sk-label fitted sk-toggleable\"><input class=\"sk-toggleable__control sk-hidden--visually\" id=\"sk-estimator-id-2\" type=\"checkbox\" ><label for=\"sk-estimator-id-2\" class=\"sk-toggleable__label fitted sk-toggleable__label-arrow\"><div><div>best_estimator_: RandomForestRegressor</div></div></label><div class=\"sk-toggleable__content fitted\"><pre>RandomForestRegressor(max_depth=10, n_estimators=50, random_state=42)</pre></div> </div></div><div class=\"sk-serial\"><div class=\"sk-item\"><div class=\"sk-estimator fitted sk-toggleable\"><input class=\"sk-toggleable__control sk-hidden--visually\" id=\"sk-estimator-id-3\" type=\"checkbox\" ><label for=\"sk-estimator-id-3\" class=\"sk-toggleable__label fitted sk-toggleable__label-arrow\"><div><div>RandomForestRegressor</div></div><div><a class=\"sk-estimator-doc-link fitted\" rel=\"noreferrer\" target=\"_blank\" href=\"https://scikit-learn.org/1.6/modules/generated/sklearn.ensemble.RandomForestRegressor.html\">?<span>Documentation for RandomForestRegressor</span></a></div></label><div class=\"sk-toggleable__content fitted\"><pre>RandomForestRegressor(max_depth=10, n_estimators=50, random_state=42)</pre></div> </div></div></div></div></div></div></div></div></div>"
      ],
      "text/plain": [
       "RandomizedSearchCV(cv=3, estimator=RandomForestRegressor(random_state=42),\n",
       "                   n_iter=3, n_jobs=1,\n",
       "                   param_distributions={'max_depth': [10],\n",
       "                                        'min_samples_leaf': [1],\n",
       "                                        'min_samples_split': [2, 5],\n",
       "                                        'n_estimators': [50, 150]},\n",
       "                   random_state=42, scoring='neg_mean_absolute_error',\n",
       "                   verbose=2)"
      ]
     },
     "execution_count": 153,
     "metadata": {},
     "output_type": "execute_result"
    }
   ],
   "source": [
    "# Definir el espacio de búsqueda de hiperparámetros\n",
    "param_dist = {\n",
    "    'n_estimators': [50, 150],  # Reducción de valores\n",
    "    'max_depth': [10],  # Mantener solo un valor para reducir combinaciones\n",
    "    'min_samples_split': [2, 5],\n",
    "    'min_samples_leaf': [1]\n",
    "}\n",
    "\n",
    "random_search = RandomizedSearchCV(\n",
    "    model, \n",
    "    param_distributions=param_dist,\n",
    "    n_iter=3,  # Reducir iteraciones\n",
    "    cv=3, \n",
    "    scoring='neg_mean_absolute_error',\n",
    "    n_jobs=1,  # Limitar el uso de CPU\n",
    "    verbose=2, \n",
    "    random_state=42\n",
    ")\n",
    "\n",
    "random_search.fit(X_train_final, y_train_final)\n"
   ]
  },
  {
   "cell_type": "code",
   "execution_count": 155,
   "id": "9a242e40-b4fd-4630-8bb0-490bf4bbfc92",
   "metadata": {},
   "outputs": [
    {
     "name": "stdout",
     "output_type": "stream",
     "text": [
      "Mejores hiperparámetros encontrados: {'n_estimators': 50, 'min_samples_split': 2, 'min_samples_leaf': 1, 'max_depth': 10}\n"
     ]
    }
   ],
   "source": [
    "best_params = random_search.best_params_\n",
    "print(\"Mejores hiperparámetros encontrados:\", best_params)\n"
   ]
  },
  {
   "cell_type": "code",
   "execution_count": 157,
   "id": "ceaf5637-a0a9-4e5e-820c-2ba5895804b4",
   "metadata": {},
   "outputs": [
    {
     "name": "stdout",
     "output_type": "stream",
     "text": [
      "📊 MAE Optimizado: 5943.6258\n",
      "📊 MSE Optimizado: 72673467.0511\n",
      "📊 R² Optimizado: 0.5703\n"
     ]
    }
   ],
   "source": [
    "#Evaluación del modelo optimizado,ahora evaluemos el modelo con estos hiperparámetros en el conjunto de prueba (X_test_final,\n",
    "from sklearn.metrics import mean_absolute_error, mean_squared_error, r2_score\n",
    "\n",
    "# Hacer predicciones con el modelo optimizado\n",
    "y_pred_optimized = random_search.best_estimator_.predict(X_test_final)\n",
    "\n",
    "# Calcular métricas\n",
    "mae_optimized = mean_absolute_error(y_test_final, y_pred_optimized)\n",
    "mse_optimized = mean_squared_error(y_test_final, y_pred_optimized)\n",
    "r2_optimized = r2_score(y_test_final, y_pred_optimized)\n",
    "\n",
    "# Mostrar métricas\n",
    "print(f\"📊 MAE Optimizado: {mae_optimized:.4f}\")\n",
    "print(f\"📊 MSE Optimizado: {mse_optimized:.4f}\")\n",
    "print(f\"📊 R² Optimizado: {r2_optimized:.4f}\")\n"
   ]
  },
  {
   "cell_type": "code",
   "execution_count": 159,
   "id": "803bac6e-7de3-4a35-8ce4-ae846782a5ef",
   "metadata": {},
   "outputs": [
    {
     "name": "stdout",
     "output_type": "stream",
     "text": [
      "\n",
      "🔄 Comparación de Modelos:\n",
      "📊 MAE Base: 7330.0929 vs. MAE Optimizado: 5943.6258\n",
      "📊 MSE Base: 122338556.6391 vs. MSE Optimizado: 72673467.0511\n",
      "📊 R² Base: 0.2766 vs. R² Optimizado: 0.5703\n"
     ]
    }
   ],
   "source": [
    "# Predicción con el modelo base (regresión lineal)\n",
    "y_pred_baseline = baseline_model.predict(X_test_final)\n",
    "\n",
    "# Métricas para el modelo base\n",
    "mae_baseline = mean_absolute_error(y_test_final, y_pred_baseline)\n",
    "mse_baseline = mean_squared_error(y_test_final, y_pred_baseline)\n",
    "r2_baseline = r2_score(y_test_final, y_pred_baseline)\n",
    "\n",
    "print(\"\\n🔄 Comparación de Modelos:\")\n",
    "print(f\"📊 MAE Base: {mae_baseline:.4f} vs. MAE Optimizado: {mae_optimized:.4f}\")\n",
    "print(f\"📊 MSE Base: {mse_baseline:.4f} vs. MSE Optimizado: {mse_optimized:.4f}\")\n",
    "print(f\"📊 R² Base: {r2_baseline:.4f} vs. R² Optimizado: {r2_optimized:.4f}\")\n"
   ]
  },
  {
   "cell_type": "code",
   "execution_count": 161,
   "id": "be9ab98d-0b5a-4665-a4b2-c3cc346d68ef",
   "metadata": {},
   "outputs": [],
   "source": [
    "#Error Absoluto Medio (MAE):\n",
    "#Modelo Base: 7,330.09\n",
    "#Modelo Optimizado: 5,943.63\n",
    "#Conclusión: El modelo optimizado reduce el MAE, lo que indica que las predicciones son en promedio 1,386.46 unidades más precisas que el modelo base.\n",
    "#Error Cuadrático Medio (MSE):\n",
    "#Modelo Base: 1,223,385,556.64\n",
    "#Modelo Optimizado: 72,673,467.05\n",
    "#Conclusión: El MSE disminuye significativamente, lo que significa que el modelo optimizado reduce los errores grandes en las predicciones, mejorando la estabilidad del modelo.\n",
    "#Coeficiente de Determinación (R²):\n",
    "#Modelo Base: 0.2766\n",
    "#Modelo Optimizado: 0.5703\n",
    "#Conclusión: El R² mejora de 0.27 a 0.57, lo que indica que el modelo optimizado explica el 57% de la variabilidad en los datos, en comparación con solo el 27% en el modelo base. Esto demuestra que el modelo mejorado tiene una mejor capacidad predictiva.\n"
   ]
  },
  {
   "cell_type": "code",
   "execution_count": 163,
   "id": "24c99ac5-f8fb-4343-bade-2ba3a4c9c106",
   "metadata": {},
   "outputs": [
    {
     "data": {
      "image/png": "[encoded data removed]",
      "text/plain": [
       "<Figure size 800x500 with 1 Axes>"
      ]
     },
     "metadata": {},
     "output_type": "display_data"
    }
   ],
   "source": [
    "#Visualización de Resultados,se comparan los valores reales y las predicciones,gráfica de dispersión\n",
    "import matplotlib.pyplot as plt\n",
    "\n",
    "plt.figure(figsize=(8,5))\n",
    "\n",
    "# Gráfico de dispersión con puntos más visibles y menos opacos\n",
    "plt.scatter(y_test_final, y_pred_optimized, color=\"blue\", alpha=0.3, s=20, label=\"Predicciones\")\n",
    "\n",
    "# Línea de referencia (y = x) en rojo con mayor grosor\n",
    "plt.plot([min(y_test_final), max(y_test_final)], \n",
    "         [min(y_test_final), max(y_test_final)], \n",
    "         color=\"red\", linestyle=\"--\", linewidth=2, label=\"Línea Ideal (y = x)\")\n",
    "\n",
    "# Etiquetas y título mejorados\n",
    "plt.xlabel(\"Valores Reales\", fontsize=12)\n",
    "plt.ylabel(\"Predicciones\", fontsize=12)\n",
    "plt.title(\"Comparación entre Valores Reales y Predichos\", fontsize=14)\n",
    "\n",
    "# Agregar cuadrícula para mejor lectura\n",
    "plt.grid(True, linestyle=\"--\", alpha=0.5)\n",
    "\n",
    "# Agregar leyenda\n",
    "plt.legend()\n",
    "\n",
    "# Mostrar gráfico\n",
    "plt.show()\n",
    "\n"
   ]
  },
  {
   "cell_type": "code",
   "execution_count": 165,
   "id": "ceacb08a-ca65-428c-b64b-7fb2ded48ce6",
   "metadata": {},
   "outputs": [],
   "source": [
    "#Conclusiones del Gráfico de Comparación entre Valores Reales y Predichos,este gráfico representa la relación entre los valores reales y los valores predichos por el modelo. A continuación, se presentan algunas conclusiones clave:\n",
    "#Buena tendencia general pero con desviaciones:\n",
    "#Se observa una tendencia alineada con la línea roja (y = x), lo que indica que el modelo está capturando la relación entre las variables en general.\n",
    "#Sin embargo, hay dispersión en varios puntos, lo que sugiere que las predicciones no son perfectas y existen errores en la estimación.\n",
    "#Sesgo en las predicciones para valores altos:\n",
    "#Para valores reales altos (> 60,000), las predicciones tienden a subestimar los valores reales.\n",
    "#Esto indica que el modelo no logra capturar correctamente los valores más altos, lo cual puede estar relacionado con una falta de datos representativos en ese rango o una limitación del modelo.\n",
    "#Alta concentración de predicciones en un rango específico:\n",
    "#Se observa una alta densidad de puntos en el rango de 20,000 a 60,000, lo que sugiere que la mayoría de las predicciones están dentro de ese intervalo.\n",
    "#Esto puede significar que el modelo está más ajustado a la mayoría de los datos, pero no generaliza bien en los extremos.\n",
    "#Puntos alejados de la línea roja (errores considerables):\n",
    "#Existen varios puntos dispersos lejos de la línea ideal, lo que indica que en algunos casos, las predicciones fallan significativamente.\n",
    "#Puede ser útil revisar valores atípicos o mejorar el modelo con técnicas como ajuste de hiperparámetros o un modelo más complejo.\n",
    "#Mejor rendimiento en valores bajos y medios:\n",
    "#Para valores entre 20,000 y 50,000, el modelo parece funcionar razonablemente bien, con menor dispersión.\n",
    "#En este rango, la relación entre los valores reales y predichos es más estable.\n",
    "\n"
   ]
  },
  {
   "cell_type": "code",
   "execution_count": 167,
   "id": "884e7cec-8988-4899-96b2-dd38af424f5e",
   "metadata": {},
   "outputs": [],
   "source": [
    "#Recomendaciones para mejorar el modelo:\n",
    "#Explorar características adicionales: Puede ser útil incluir más variables relevantes en el modelo.\n",
    "#Mejorar la regularización: Experimentar con diferentes valores de hiperparámetros como max_depth, n_estimators y min_samples_split.\n",
    "#Manejo de valores extremos: Analizar los valores atípicos que el modelo no logra predecir correctamente.\n",
    "#Probar otro modelo: Un modelo más avanzado como Gradient Boosting o XGBoost podría mejorar la precisión.\n",
    "\n"
   ]
  },
  {
   "cell_type": "code",
   "execution_count": 169,
   "id": "fa0307fd-417d-4ae5-993b-81e5ebbb8bd2",
   "metadata": {},
   "outputs": [
    {
     "data": {
      "text/plain": [
       "['modelo_random_forest_optimizado.pkl']"
      ]
     },
     "execution_count": 169,
     "metadata": {},
     "output_type": "execute_result"
    }
   ],
   "source": [
    "#Guardar el modelo entrenado\n",
    "import joblib\n",
    "joblib.dump(random_search.best_estimator_, \"modelo_random_forest_optimizado.pkl\")\n"
   ]
  },
  {
   "cell_type": "code",
   "execution_count": null,
   "id": "5c1c7a35-3b3a-4841-afaa-0507a501eea8",
   "metadata": {},
   "outputs": [],
   "source": []
  }
 ],
 "metadata": {
  "kernelspec": {
   "display_name": "Python [conda env:base] *",
   "language": "python",
   "name": "conda-base-py"
  },
  "language_info": {
   "codemirror_mode": {
    "name": "ipython",
    "version": 3
   },
   "file_extension": ".py",
   "mimetype": "text/x-python",
   "name": "python",
   "nbconvert_exporter": "python",
   "pygments_lexer": "ipython3",
   "version": "3.12.7"
  }
 },
 "nbformat": 4,
 "nbformat_minor": 5
}
